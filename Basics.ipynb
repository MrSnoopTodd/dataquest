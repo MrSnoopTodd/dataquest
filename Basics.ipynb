{
 "cells": [
  {
   "cell_type": "code",
   "execution_count": 1,
   "metadata": {
    "collapsed": true
   },
   "outputs": [],
   "source": [
    "import csv"
   ]
  },
  {
   "cell_type": "code",
   "execution_count": 2,
   "metadata": {
    "collapsed": true
   },
   "outputs": [],
   "source": [
    "f = open(\"guns.csv\", 'r')"
   ]
  },
  {
   "cell_type": "code",
   "execution_count": 3,
   "metadata": {
    "collapsed": false
   },
   "outputs": [],
   "source": [
    "data = csv.reader(f)"
   ]
  },
  {
   "cell_type": "code",
   "execution_count": 4,
   "metadata": {
    "collapsed": true
   },
   "outputs": [],
   "source": [
    "guns = list(data)"
   ]
  },
  {
   "cell_type": "code",
   "execution_count": 5,
   "metadata": {
    "collapsed": false,
    "scrolled": true
   },
   "outputs": [
    {
     "name": "stdout",
     "output_type": "stream",
     "text": [
      "[['', 'year', 'month', 'intent', 'police', 'sex', 'age', 'race', 'hispanic', 'place', 'education'], ['1', '2012', '01', 'Suicide', '0', 'M', '34', 'Asian/Pacific Islander', '100', 'Home', '4'], ['2', '2012', '01', 'Suicide', '0', 'F', '21', 'White', '100', 'Street', '3'], ['3', '2012', '01', 'Suicide', '0', 'M', '60', 'White', '100', 'Other specified', '4'], ['4', '2012', '02', 'Suicide', '0', 'M', '64', 'White', '100', 'Home', '4']]\n"
     ]
    }
   ],
   "source": [
    "print(guns[:5])"
   ]
  },
  {
   "cell_type": "code",
   "execution_count": 6,
   "metadata": {
    "collapsed": true
   },
   "outputs": [],
   "source": [
    "headers = guns[0]"
   ]
  },
  {
   "cell_type": "code",
   "execution_count": 7,
   "metadata": {
    "collapsed": false
   },
   "outputs": [
    {
     "data": {
      "text/plain": [
       "['',\n",
       " 'year',\n",
       " 'month',\n",
       " 'intent',\n",
       " 'police',\n",
       " 'sex',\n",
       " 'age',\n",
       " 'race',\n",
       " 'hispanic',\n",
       " 'place',\n",
       " 'education']"
      ]
     },
     "execution_count": 7,
     "metadata": {},
     "output_type": "execute_result"
    }
   ],
   "source": [
    "headers"
   ]
  },
  {
   "cell_type": "code",
   "execution_count": 8,
   "metadata": {
    "collapsed": false
   },
   "outputs": [
    {
     "data": {
      "text/plain": [
       "[['',\n",
       "  'year',\n",
       "  'month',\n",
       "  'intent',\n",
       "  'police',\n",
       "  'sex',\n",
       "  'age',\n",
       "  'race',\n",
       "  'hispanic',\n",
       "  'place',\n",
       "  'education'],\n",
       " ['1',\n",
       "  '2012',\n",
       "  '01',\n",
       "  'Suicide',\n",
       "  '0',\n",
       "  'M',\n",
       "  '34',\n",
       "  'Asian/Pacific Islander',\n",
       "  '100',\n",
       "  'Home',\n",
       "  '4'],\n",
       " ['2', '2012', '01', 'Suicide', '0', 'F', '21', 'White', '100', 'Street', '3'],\n",
       " ['3',\n",
       "  '2012',\n",
       "  '01',\n",
       "  'Suicide',\n",
       "  '0',\n",
       "  'M',\n",
       "  '60',\n",
       "  'White',\n",
       "  '100',\n",
       "  'Other specified',\n",
       "  '4'],\n",
       " ['4', '2012', '02', 'Suicide', '0', 'M', '64', 'White', '100', 'Home', '4']]"
      ]
     },
     "execution_count": 8,
     "metadata": {},
     "output_type": "execute_result"
    }
   ],
   "source": [
    "guns[0:5]"
   ]
  },
  {
   "cell_type": "code",
   "execution_count": 9,
   "metadata": {
    "collapsed": true
   },
   "outputs": [],
   "source": [
    "guns = guns[1:]"
   ]
  },
  {
   "cell_type": "code",
   "execution_count": 10,
   "metadata": {
    "collapsed": false
   },
   "outputs": [
    {
     "data": {
      "text/plain": [
       "[['1',\n",
       "  '2012',\n",
       "  '01',\n",
       "  'Suicide',\n",
       "  '0',\n",
       "  'M',\n",
       "  '34',\n",
       "  'Asian/Pacific Islander',\n",
       "  '100',\n",
       "  'Home',\n",
       "  '4'],\n",
       " ['2', '2012', '01', 'Suicide', '0', 'F', '21', 'White', '100', 'Street', '3'],\n",
       " ['3',\n",
       "  '2012',\n",
       "  '01',\n",
       "  'Suicide',\n",
       "  '0',\n",
       "  'M',\n",
       "  '60',\n",
       "  'White',\n",
       "  '100',\n",
       "  'Other specified',\n",
       "  '4'],\n",
       " ['4', '2012', '02', 'Suicide', '0', 'M', '64', 'White', '100', 'Home', '4'],\n",
       " ['5',\n",
       "  '2012',\n",
       "  '02',\n",
       "  'Suicide',\n",
       "  '0',\n",
       "  'M',\n",
       "  '31',\n",
       "  'White',\n",
       "  '100',\n",
       "  'Other specified',\n",
       "  '2']]"
      ]
     },
     "execution_count": 10,
     "metadata": {},
     "output_type": "execute_result"
    }
   ],
   "source": [
    "guns[:5]"
   ]
  },
  {
   "cell_type": "code",
   "execution_count": 11,
   "metadata": {
    "collapsed": true
   },
   "outputs": [],
   "source": [
    "years = [death[1] for death in guns]"
   ]
  },
  {
   "cell_type": "code",
   "execution_count": 12,
   "metadata": {
    "collapsed": false
   },
   "outputs": [
    {
     "data": {
      "text/plain": [
       "['2012',\n",
       " '2012',\n",
       " '2012',\n",
       " '2012',\n",
       " '2012',\n",
       " '2012',\n",
       " '2012',\n",
       " '2012',\n",
       " '2012',\n",
       " '2012']"
      ]
     },
     "execution_count": 12,
     "metadata": {},
     "output_type": "execute_result"
    }
   ],
   "source": [
    "years[:10]"
   ]
  },
  {
   "cell_type": "code",
   "execution_count": 13,
   "metadata": {
    "collapsed": true
   },
   "outputs": [],
   "source": [
    "year_counts = {}"
   ]
  },
  {
   "cell_type": "code",
   "execution_count": 14,
   "metadata": {
    "collapsed": true
   },
   "outputs": [],
   "source": [
    "for year in years:\n",
    "    if year in year_counts:\n",
    "        year_counts[year] += 1\n",
    "    else:\n",
    "        year_counts[year] = 1"
   ]
  },
  {
   "cell_type": "code",
   "execution_count": 15,
   "metadata": {
    "collapsed": false
   },
   "outputs": [
    {
     "data": {
      "text/plain": [
       "{'2012': 33563, '2013': 33636, '2014': 33599}"
      ]
     },
     "execution_count": 15,
     "metadata": {},
     "output_type": "execute_result"
    }
   ],
   "source": [
    "year_counts"
   ]
  },
  {
   "cell_type": "code",
   "execution_count": 16,
   "metadata": {
    "collapsed": false
   },
   "outputs": [
    {
     "data": {
      "text/plain": [
       "100798"
      ]
     },
     "execution_count": 16,
     "metadata": {},
     "output_type": "execute_result"
    }
   ],
   "source": [
    "len(guns)"
   ]
  },
  {
   "cell_type": "code",
   "execution_count": 17,
   "metadata": {
    "collapsed": false
   },
   "outputs": [
    {
     "data": {
      "text/plain": [
       "100798"
      ]
     },
     "execution_count": 17,
     "metadata": {},
     "output_type": "execute_result"
    }
   ],
   "source": [
    "33563+33636+33599"
   ]
  },
  {
   "cell_type": "code",
   "execution_count": 18,
   "metadata": {
    "collapsed": false
   },
   "outputs": [
    {
     "data": {
      "text/plain": [
       "[['1',\n",
       "  '2012',\n",
       "  '01',\n",
       "  'Suicide',\n",
       "  '0',\n",
       "  'M',\n",
       "  '34',\n",
       "  'Asian/Pacific Islander',\n",
       "  '100',\n",
       "  'Home',\n",
       "  '4'],\n",
       " ['2', '2012', '01', 'Suicide', '0', 'F', '21', 'White', '100', 'Street', '3'],\n",
       " ['3',\n",
       "  '2012',\n",
       "  '01',\n",
       "  'Suicide',\n",
       "  '0',\n",
       "  'M',\n",
       "  '60',\n",
       "  'White',\n",
       "  '100',\n",
       "  'Other specified',\n",
       "  '4'],\n",
       " ['4', '2012', '02', 'Suicide', '0', 'M', '64', 'White', '100', 'Home', '4'],\n",
       " ['5',\n",
       "  '2012',\n",
       "  '02',\n",
       "  'Suicide',\n",
       "  '0',\n",
       "  'M',\n",
       "  '31',\n",
       "  'White',\n",
       "  '100',\n",
       "  'Other specified',\n",
       "  '2'],\n",
       " ['6',\n",
       "  '2012',\n",
       "  '02',\n",
       "  'Suicide',\n",
       "  '0',\n",
       "  'M',\n",
       "  '17',\n",
       "  'Native American/Native Alaskan',\n",
       "  '100',\n",
       "  'Home',\n",
       "  '1'],\n",
       " ['7',\n",
       "  '2012',\n",
       "  '02',\n",
       "  'Undetermined',\n",
       "  '0',\n",
       "  'M',\n",
       "  '48',\n",
       "  'White',\n",
       "  '100',\n",
       "  'Home',\n",
       "  '2'],\n",
       " ['8',\n",
       "  '2012',\n",
       "  '03',\n",
       "  'Suicide',\n",
       "  '0',\n",
       "  'M',\n",
       "  '41',\n",
       "  'Native American/Native Alaskan',\n",
       "  '100',\n",
       "  'Home',\n",
       "  '2'],\n",
       " ['9',\n",
       "  '2012',\n",
       "  '02',\n",
       "  'Accidental',\n",
       "  '0',\n",
       "  'M',\n",
       "  '50',\n",
       "  'White',\n",
       "  '100',\n",
       "  'Other specified',\n",
       "  '3'],\n",
       " ['10', '2012', '02', 'Suicide', '0', 'M', 'NA', 'Black', '998', 'Home', '5']]"
      ]
     },
     "execution_count": 18,
     "metadata": {},
     "output_type": "execute_result"
    }
   ],
   "source": [
    "guns[:10]"
   ]
  },
  {
   "cell_type": "code",
   "execution_count": 19,
   "metadata": {
    "collapsed": false
   },
   "outputs": [
    {
     "data": {
      "text/plain": [
       "['',\n",
       " 'year',\n",
       " 'month',\n",
       " 'intent',\n",
       " 'police',\n",
       " 'sex',\n",
       " 'age',\n",
       " 'race',\n",
       " 'hispanic',\n",
       " 'place',\n",
       " 'education']"
      ]
     },
     "execution_count": 19,
     "metadata": {},
     "output_type": "execute_result"
    }
   ],
   "source": [
    "headers"
   ]
  },
  {
   "cell_type": "code",
   "execution_count": 20,
   "metadata": {
    "collapsed": false
   },
   "outputs": [
    {
     "ename": "NameError",
     "evalue": "name 'datetime' is not defined",
     "output_type": "error",
     "traceback": [
      "\u001b[1;31m\u001b[0m",
      "\u001b[1;31mNameError\u001b[0mTraceback (most recent call last)",
      "\u001b[1;32m<ipython-input-20-6359b74276d6>\u001b[0m in \u001b[0;36m<module>\u001b[1;34m()\u001b[0m\n\u001b[1;32m----> 1\u001b[1;33m \u001b[0mdates\u001b[0m \u001b[1;33m=\u001b[0m \u001b[1;33m[\u001b[0m\u001b[0mdatetime\u001b[0m\u001b[1;33m.\u001b[0m\u001b[0mdatetime\u001b[0m\u001b[1;33m(\u001b[0m\u001b[0myear\u001b[0m\u001b[1;33m=\u001b[0m\u001b[0mint\u001b[0m\u001b[1;33m(\u001b[0m\u001b[0mdeath\u001b[0m\u001b[1;33m[\u001b[0m\u001b[1;36m1\u001b[0m\u001b[1;33m]\u001b[0m\u001b[1;33m)\u001b[0m\u001b[1;33m,\u001b[0m \u001b[0mmonth\u001b[0m\u001b[1;33m=\u001b[0m\u001b[0mint\u001b[0m\u001b[1;33m(\u001b[0m\u001b[0mdeath\u001b[0m\u001b[1;33m[\u001b[0m\u001b[1;36m2\u001b[0m\u001b[1;33m]\u001b[0m\u001b[1;33m)\u001b[0m\u001b[1;33m,\u001b[0m \u001b[0mday\u001b[0m\u001b[1;33m=\u001b[0m\u001b[1;36m1\u001b[0m\u001b[1;33m)\u001b[0m \u001b[1;32mfor\u001b[0m \u001b[0mdeath\u001b[0m \u001b[1;32min\u001b[0m \u001b[0mguns\u001b[0m\u001b[1;33m]\u001b[0m\u001b[1;33m\u001b[0m\u001b[0m\n\u001b[0m",
      "\u001b[1;32m<ipython-input-20-6359b74276d6>\u001b[0m in \u001b[0;36m<listcomp>\u001b[1;34m(.0)\u001b[0m\n\u001b[1;32m----> 1\u001b[1;33m \u001b[0mdates\u001b[0m \u001b[1;33m=\u001b[0m \u001b[1;33m[\u001b[0m\u001b[0mdatetime\u001b[0m\u001b[1;33m.\u001b[0m\u001b[0mdatetime\u001b[0m\u001b[1;33m(\u001b[0m\u001b[0myear\u001b[0m\u001b[1;33m=\u001b[0m\u001b[0mint\u001b[0m\u001b[1;33m(\u001b[0m\u001b[0mdeath\u001b[0m\u001b[1;33m[\u001b[0m\u001b[1;36m1\u001b[0m\u001b[1;33m]\u001b[0m\u001b[1;33m)\u001b[0m\u001b[1;33m,\u001b[0m \u001b[0mmonth\u001b[0m\u001b[1;33m=\u001b[0m\u001b[0mint\u001b[0m\u001b[1;33m(\u001b[0m\u001b[0mdeath\u001b[0m\u001b[1;33m[\u001b[0m\u001b[1;36m2\u001b[0m\u001b[1;33m]\u001b[0m\u001b[1;33m)\u001b[0m\u001b[1;33m,\u001b[0m \u001b[0mday\u001b[0m\u001b[1;33m=\u001b[0m\u001b[1;36m1\u001b[0m\u001b[1;33m)\u001b[0m \u001b[1;32mfor\u001b[0m \u001b[0mdeath\u001b[0m \u001b[1;32min\u001b[0m \u001b[0mguns\u001b[0m\u001b[1;33m]\u001b[0m\u001b[1;33m\u001b[0m\u001b[0m\n\u001b[0m",
      "\u001b[1;31mNameError\u001b[0m: name 'datetime' is not defined"
     ]
    }
   ],
   "source": [
    "dates = [datetime.datetime(year=int(death[1]), month=int(death[2]), day=1) for death in guns]"
   ]
  },
  {
   "cell_type": "code",
   "execution_count": 21,
   "metadata": {
    "collapsed": false
   },
   "outputs": [
    {
     "ename": "NameError",
     "evalue": "name 'datetime' is not defined",
     "output_type": "error",
     "traceback": [
      "\u001b[1;31m\u001b[0m",
      "\u001b[1;31mNameError\u001b[0mTraceback (most recent call last)",
      "\u001b[1;32m<ipython-input-21-4420bd6b2451>\u001b[0m in \u001b[0;36m<module>\u001b[1;34m()\u001b[0m\n\u001b[1;32m----> 1\u001b[1;33m \u001b[0mbestday\u001b[0m \u001b[1;33m=\u001b[0m \u001b[0mdatetime\u001b[0m\u001b[1;33m.\u001b[0m\u001b[0mdatetime\u001b[0m\u001b[1;33m(\u001b[0m\u001b[0myear\u001b[0m\u001b[1;33m=\u001b[0m\u001b[1;36m1985\u001b[0m\u001b[1;33m,\u001b[0m \u001b[0mmonth\u001b[0m\u001b[1;33m=\u001b[0m\u001b[1;36m10\u001b[0m\u001b[1;33m,\u001b[0m \u001b[0mday\u001b[0m\u001b[1;33m=\u001b[0m\u001b[1;36m16\u001b[0m\u001b[1;33m)\u001b[0m\u001b[1;33m\u001b[0m\u001b[0m\n\u001b[0m",
      "\u001b[1;31mNameError\u001b[0m: name 'datetime' is not defined"
     ]
    }
   ],
   "source": [
    "bestday = datetime.datetime(year=1985, month=10, day=16)"
   ]
  },
  {
   "cell_type": "code",
   "execution_count": 22,
   "metadata": {
    "collapsed": true
   },
   "outputs": [],
   "source": [
    "import datetime"
   ]
  },
  {
   "cell_type": "code",
   "execution_count": 23,
   "metadata": {
    "collapsed": true
   },
   "outputs": [],
   "source": [
    "bestday = datetime.datetime(year=1985, month=10, day=16)"
   ]
  },
  {
   "cell_type": "code",
   "execution_count": 24,
   "metadata": {
    "collapsed": false
   },
   "outputs": [
    {
     "data": {
      "text/plain": [
       "datetime.datetime(1985, 10, 16, 0, 0)"
      ]
     },
     "execution_count": 24,
     "metadata": {},
     "output_type": "execute_result"
    }
   ],
   "source": [
    "bestday"
   ]
  },
  {
   "cell_type": "code",
   "execution_count": 25,
   "metadata": {
    "collapsed": true
   },
   "outputs": [],
   "source": [
    "dates = [datetime.datetime(year=int(death[1]), month=int(death[2]), day=1) for death in guns]"
   ]
  },
  {
   "cell_type": "code",
   "execution_count": 26,
   "metadata": {
    "collapsed": false
   },
   "outputs": [
    {
     "data": {
      "text/plain": [
       "[datetime.datetime(2012, 1, 1, 0, 0),\n",
       " datetime.datetime(2012, 1, 1, 0, 0),\n",
       " datetime.datetime(2012, 1, 1, 0, 0),\n",
       " datetime.datetime(2012, 2, 1, 0, 0),\n",
       " datetime.datetime(2012, 2, 1, 0, 0)]"
      ]
     },
     "execution_count": 26,
     "metadata": {},
     "output_type": "execute_result"
    }
   ],
   "source": [
    "dates[:5]"
   ]
  },
  {
   "cell_type": "code",
   "execution_count": 27,
   "metadata": {
    "collapsed": true
   },
   "outputs": [],
   "source": [
    "date_counts = {}"
   ]
  },
  {
   "cell_type": "code",
   "execution_count": 28,
   "metadata": {
    "collapsed": true
   },
   "outputs": [],
   "source": [
    "for date in dates:\n",
    "    if date in date_counts:\n",
    "        date_counts[date] += 1\n",
    "    else:\n",
    "        date_counts[date] = 1"
   ]
  },
  {
   "cell_type": "code",
   "execution_count": 29,
   "metadata": {
    "collapsed": false
   },
   "outputs": [
    {
     "data": {
      "text/plain": [
       "{datetime.datetime(2012, 1, 1, 0, 0): 2758,\n",
       " datetime.datetime(2012, 2, 1, 0, 0): 2357,\n",
       " datetime.datetime(2012, 3, 1, 0, 0): 2743,\n",
       " datetime.datetime(2012, 4, 1, 0, 0): 2795,\n",
       " datetime.datetime(2012, 5, 1, 0, 0): 2999,\n",
       " datetime.datetime(2012, 6, 1, 0, 0): 2826,\n",
       " datetime.datetime(2012, 7, 1, 0, 0): 3026,\n",
       " datetime.datetime(2012, 8, 1, 0, 0): 2954,\n",
       " datetime.datetime(2012, 9, 1, 0, 0): 2852,\n",
       " datetime.datetime(2012, 10, 1, 0, 0): 2733,\n",
       " datetime.datetime(2012, 11, 1, 0, 0): 2729,\n",
       " datetime.datetime(2012, 12, 1, 0, 0): 2791,\n",
       " datetime.datetime(2013, 1, 1, 0, 0): 2864,\n",
       " datetime.datetime(2013, 2, 1, 0, 0): 2375,\n",
       " datetime.datetime(2013, 3, 1, 0, 0): 2862,\n",
       " datetime.datetime(2013, 4, 1, 0, 0): 2798,\n",
       " datetime.datetime(2013, 5, 1, 0, 0): 2806,\n",
       " datetime.datetime(2013, 6, 1, 0, 0): 2920,\n",
       " datetime.datetime(2013, 7, 1, 0, 0): 3079,\n",
       " datetime.datetime(2013, 8, 1, 0, 0): 2859,\n",
       " datetime.datetime(2013, 9, 1, 0, 0): 2742,\n",
       " datetime.datetime(2013, 10, 1, 0, 0): 2808,\n",
       " datetime.datetime(2013, 11, 1, 0, 0): 2758,\n",
       " datetime.datetime(2013, 12, 1, 0, 0): 2765,\n",
       " datetime.datetime(2014, 1, 1, 0, 0): 2651,\n",
       " datetime.datetime(2014, 2, 1, 0, 0): 2361,\n",
       " datetime.datetime(2014, 3, 1, 0, 0): 2684,\n",
       " datetime.datetime(2014, 4, 1, 0, 0): 2862,\n",
       " datetime.datetime(2014, 5, 1, 0, 0): 2864,\n",
       " datetime.datetime(2014, 6, 1, 0, 0): 2931,\n",
       " datetime.datetime(2014, 7, 1, 0, 0): 2884,\n",
       " datetime.datetime(2014, 8, 1, 0, 0): 2970,\n",
       " datetime.datetime(2014, 9, 1, 0, 0): 2914,\n",
       " datetime.datetime(2014, 10, 1, 0, 0): 2865,\n",
       " datetime.datetime(2014, 11, 1, 0, 0): 2756,\n",
       " datetime.datetime(2014, 12, 1, 0, 0): 2857}"
      ]
     },
     "execution_count": 29,
     "metadata": {},
     "output_type": "execute_result"
    }
   ],
   "source": [
    "date_counts"
   ]
  },
  {
   "cell_type": "code",
   "execution_count": 30,
   "metadata": {
    "collapsed": false
   },
   "outputs": [
    {
     "data": {
      "text/plain": [
       "['',\n",
       " 'year',\n",
       " 'month',\n",
       " 'intent',\n",
       " 'police',\n",
       " 'sex',\n",
       " 'age',\n",
       " 'race',\n",
       " 'hispanic',\n",
       " 'place',\n",
       " 'education']"
      ]
     },
     "execution_count": 30,
     "metadata": {},
     "output_type": "execute_result"
    }
   ],
   "source": [
    "headers"
   ]
  },
  {
   "cell_type": "code",
   "execution_count": 31,
   "metadata": {
    "collapsed": true
   },
   "outputs": [],
   "source": [
    "sex_counts = {}"
   ]
  },
  {
   "cell_type": "code",
   "execution_count": 32,
   "metadata": {
    "collapsed": true
   },
   "outputs": [],
   "source": [
    "for death in guns:\n",
    "    if death[5] in sex_counts:\n",
    "        sex_counts[death[5]] += 1\n",
    "    else:\n",
    "        sex_counts[death[5]] = 1"
   ]
  },
  {
   "cell_type": "code",
   "execution_count": 33,
   "metadata": {
    "collapsed": false
   },
   "outputs": [
    {
     "data": {
      "text/plain": [
       "{'F': 14449, 'M': 86349}"
      ]
     },
     "execution_count": 33,
     "metadata": {},
     "output_type": "execute_result"
    }
   ],
   "source": [
    "sex_counts"
   ]
  },
  {
   "cell_type": "code",
   "execution_count": 34,
   "metadata": {
    "collapsed": true
   },
   "outputs": [],
   "source": [
    "race_counts = {}"
   ]
  },
  {
   "cell_type": "code",
   "execution_count": 35,
   "metadata": {
    "collapsed": false
   },
   "outputs": [],
   "source": [
    "for death in guns:\n",
    "    if death[7] in race_counts:\n",
    "        race_counts[death[7]] += 1\n",
    "    else:\n",
    "        race_counts[death[7]] = 1"
   ]
  },
  {
   "cell_type": "code",
   "execution_count": 36,
   "metadata": {
    "collapsed": false
   },
   "outputs": [
    {
     "data": {
      "text/plain": [
       "{'Asian/Pacific Islander': 1326,\n",
       " 'Black': 23296,\n",
       " 'Hispanic': 9022,\n",
       " 'Native American/Native Alaskan': 917,\n",
       " 'White': 66237}"
      ]
     },
     "execution_count": 36,
     "metadata": {},
     "output_type": "execute_result"
    }
   ],
   "source": [
    "race_counts"
   ]
  },
  {
   "cell_type": "code",
   "execution_count": 37,
   "metadata": {
    "collapsed": false
   },
   "outputs": [
    {
     "data": {
      "text/plain": [
       "{'F': 14449, 'M': 86349}"
      ]
     },
     "execution_count": 37,
     "metadata": {},
     "output_type": "execute_result"
    }
   ],
   "source": [
    "sex_counts"
   ]
  },
  {
   "cell_type": "code",
   "execution_count": 38,
   "metadata": {
    "collapsed": true
   },
   "outputs": [],
   "source": [
    "sex_counts = {}"
   ]
  },
  {
   "cell_type": "code",
   "execution_count": 39,
   "metadata": {
    "collapsed": true
   },
   "outputs": [],
   "source": [
    "for death in guns:\n",
    "    if death[5] in sex_counts:\n",
    "        sex_counts[death[5]] += 1\n",
    "    else:\n",
    "        sex_counts[death[5]] = 1"
   ]
  },
  {
   "cell_type": "code",
   "execution_count": 40,
   "metadata": {
    "collapsed": false
   },
   "outputs": [
    {
     "data": {
      "text/plain": [
       "{'F': 14449, 'M': 86349}"
      ]
     },
     "execution_count": 40,
     "metadata": {},
     "output_type": "execute_result"
    }
   ],
   "source": [
    "sex_counts"
   ]
  },
  {
   "cell_type": "code",
   "execution_count": 41,
   "metadata": {
    "collapsed": false
   },
   "outputs": [
    {
     "data": {
      "text/plain": [
       "{'Asian/Pacific Islander': 1326,\n",
       " 'Black': 23296,\n",
       " 'Hispanic': 9022,\n",
       " 'Native American/Native Alaskan': 917,\n",
       " 'White': 66237}"
      ]
     },
     "execution_count": 41,
     "metadata": {},
     "output_type": "execute_result"
    }
   ],
   "source": [
    "race_counts"
   ]
  },
  {
   "cell_type": "code",
   "execution_count": 42,
   "metadata": {
    "collapsed": true
   },
   "outputs": [],
   "source": [
    "# Males are over 5 times more likely to die in a gun-related death. \n",
    "# White people make up ~66% of gun deaths, while 23% for blacks and 9% for Hispanics seems disprportianately high. \n",
    "# Gun deaths appear fairly consistent throughout the year with slight increases in the summer and decreases in the winter. \n",
    "# Roughly equal annual totals suggest a per capita decrease each year assuming a rising population."
   ]
  },
  {
   "cell_type": "code",
   "execution_count": 43,
   "metadata": {
    "collapsed": true
   },
   "outputs": [],
   "source": [
    "f = open(\"census.csv\",'r')"
   ]
  },
  {
   "cell_type": "code",
   "execution_count": 44,
   "metadata": {
    "collapsed": true
   },
   "outputs": [],
   "source": [
    "census_data = csv.reader(f)"
   ]
  },
  {
   "cell_type": "code",
   "execution_count": 45,
   "metadata": {
    "collapsed": true
   },
   "outputs": [],
   "source": [
    "census = list(census_data)"
   ]
  },
  {
   "cell_type": "code",
   "execution_count": 46,
   "metadata": {
    "collapsed": false
   },
   "outputs": [
    {
     "data": {
      "text/plain": [
       "[['Id',\n",
       "  'Year',\n",
       "  'Id',\n",
       "  'Sex',\n",
       "  'Id',\n",
       "  'Hispanic Origin',\n",
       "  'Id',\n",
       "  'Id2',\n",
       "  'Geography',\n",
       "  'Total',\n",
       "  'Race Alone - White',\n",
       "  'Race Alone - Hispanic',\n",
       "  'Race Alone - Black or African American',\n",
       "  'Race Alone - American Indian and Alaska Native',\n",
       "  'Race Alone - Asian',\n",
       "  'Race Alone - Native Hawaiian and Other Pacific Islander',\n",
       "  'Two or More Races'],\n",
       " ['cen42010',\n",
       "  'April 1, 2010 Census',\n",
       "  'totsex',\n",
       "  'Both Sexes',\n",
       "  'tothisp',\n",
       "  'Total',\n",
       "  '0100000US',\n",
       "  '',\n",
       "  'United States',\n",
       "  '308745538',\n",
       "  '197318956',\n",
       "  '44618105',\n",
       "  '40250635',\n",
       "  '3739506',\n",
       "  '15159516',\n",
       "  '674625',\n",
       "  '6984195']]"
      ]
     },
     "execution_count": 46,
     "metadata": {},
     "output_type": "execute_result"
    }
   ],
   "source": [
    "census"
   ]
  },
  {
   "cell_type": "code",
   "execution_count": 47,
   "metadata": {
    "collapsed": true
   },
   "outputs": [],
   "source": [
    "mapping = {}"
   ]
  },
  {
   "cell_type": "code",
   "execution_count": 48,
   "metadata": {
    "collapsed": true
   },
   "outputs": [],
   "source": [
    "for k,v in race_counts.items():\n",
    "    mapping[k] = 0\n",
    "    "
   ]
  },
  {
   "cell_type": "code",
   "execution_count": 49,
   "metadata": {
    "collapsed": false
   },
   "outputs": [
    {
     "data": {
      "text/plain": [
       "{'Asian/Pacific Islander': 0,\n",
       " 'Black': 0,\n",
       " 'Hispanic': 0,\n",
       " 'Native American/Native Alaskan': 0,\n",
       " 'White': 0}"
      ]
     },
     "execution_count": 49,
     "metadata": {},
     "output_type": "execute_result"
    }
   ],
   "source": [
    "mapping"
   ]
  },
  {
   "cell_type": "code",
   "execution_count": 50,
   "metadata": {
    "collapsed": true
   },
   "outputs": [],
   "source": [
    "index = [1,2,3,4,5]"
   ]
  },
  {
   "cell_type": "code",
   "execution_count": 51,
   "metadata": {
    "collapsed": false
   },
   "outputs": [
    {
     "ename": "TypeError",
     "evalue": "'int' object is not subscriptable",
     "output_type": "error",
     "traceback": [
      "\u001b[1;31m\u001b[0m",
      "\u001b[1;31mTypeError\u001b[0mTraceback (most recent call last)",
      "\u001b[1;32m<ipython-input-51-731f37b8922f>\u001b[0m in \u001b[0;36m<module>\u001b[1;34m()\u001b[0m\n\u001b[1;32m----> 1\u001b[1;33m \u001b[0masians\u001b[0m \u001b[1;33m=\u001b[0m \u001b[0mcensus\u001b[0m\u001b[1;33m[\u001b[0m\u001b[1;36m1\u001b[0m\u001b[1;33m[\u001b[0m\u001b[1;36m13\u001b[0m\u001b[1;33m]\u001b[0m\u001b[1;33m]\u001b[0m\u001b[1;33m\u001b[0m\u001b[0m\n\u001b[0m",
      "\u001b[1;31mTypeError\u001b[0m: 'int' object is not subscriptable"
     ]
    }
   ],
   "source": [
    "asians = census[1[13]]"
   ]
  },
  {
   "cell_type": "code",
   "execution_count": 52,
   "metadata": {
    "collapsed": false
   },
   "outputs": [],
   "source": [
    "mapping = {\n",
    "    'Asian/Pacific Islander': int(census[1][13]) + int(census[1][14]),\n",
    "    'Black': int(census[1][11]),\n",
    "    'Hispanic': int(census[1][10]),\n",
    "    'Native American/Native Alaskan': int(census[1][12]),\n",
    "    'White': int(census[1][9])\n",
    "}"
   ]
  },
  {
   "cell_type": "code",
   "execution_count": 53,
   "metadata": {
    "collapsed": false
   },
   "outputs": [
    {
     "data": {
      "text/plain": [
       "['cen42010',\n",
       " 'April 1, 2010 Census',\n",
       " 'totsex',\n",
       " 'Both Sexes',\n",
       " 'tothisp',\n",
       " 'Total',\n",
       " '0100000US',\n",
       " '',\n",
       " 'United States',\n",
       " '308745538',\n",
       " '197318956',\n",
       " '44618105',\n",
       " '40250635',\n",
       " '3739506',\n",
       " '15159516',\n",
       " '674625',\n",
       " '6984195']"
      ]
     },
     "execution_count": 53,
     "metadata": {},
     "output_type": "execute_result"
    }
   ],
   "source": [
    "census[1]"
   ]
  },
  {
   "cell_type": "code",
   "execution_count": 54,
   "metadata": {
    "collapsed": false
   },
   "outputs": [
    {
     "data": {
      "text/plain": [
       "'3739506'"
      ]
     },
     "execution_count": 54,
     "metadata": {},
     "output_type": "execute_result"
    }
   ],
   "source": [
    "census[1][13]"
   ]
  },
  {
   "cell_type": "code",
   "execution_count": 55,
   "metadata": {
    "collapsed": false
   },
   "outputs": [
    {
     "data": {
      "text/plain": [
       "{'Asian/Pacific Islander': 18899022,\n",
       " 'Black': 44618105,\n",
       " 'Hispanic': 197318956,\n",
       " 'Native American/Native Alaskan': 40250635,\n",
       " 'White': 308745538}"
      ]
     },
     "execution_count": 55,
     "metadata": {},
     "output_type": "execute_result"
    }
   ],
   "source": [
    "mapping"
   ]
  },
  {
   "cell_type": "code",
   "execution_count": 56,
   "metadata": {
    "collapsed": true
   },
   "outputs": [],
   "source": [
    "for k,v in race_counts.items():\n",
    "    mapping[k] = 0\n",
    "    "
   ]
  },
  {
   "cell_type": "code",
   "execution_count": 57,
   "metadata": {
    "collapsed": false
   },
   "outputs": [
    {
     "data": {
      "text/plain": [
       "{'Asian/Pacific Islander': 0,\n",
       " 'Black': 0,\n",
       " 'Hispanic': 0,\n",
       " 'Native American/Native Alaskan': 0,\n",
       " 'White': 0}"
      ]
     },
     "execution_count": 57,
     "metadata": {},
     "output_type": "execute_result"
    }
   ],
   "source": [
    "mapping"
   ]
  },
  {
   "cell_type": "code",
   "execution_count": 58,
   "metadata": {
    "collapsed": true
   },
   "outputs": [],
   "source": [
    "mapping = {\n",
    "    'Asian/Pacific Islander': int(census[1][14]) + int(census[1][15]),\n",
    "    'Black': int(census[1][12]),\n",
    "    'Hispanic': int(census[1][11]),\n",
    "    'Native American/Native Alaskan': int(census[1][13]),\n",
    "    'White': int(census[1][10])\n",
    "}"
   ]
  },
  {
   "cell_type": "code",
   "execution_count": 59,
   "metadata": {
    "collapsed": false
   },
   "outputs": [
    {
     "data": {
      "text/plain": [
       "{'Asian/Pacific Islander': 15834141,\n",
       " 'Black': 40250635,\n",
       " 'Hispanic': 44618105,\n",
       " 'Native American/Native Alaskan': 3739506,\n",
       " 'White': 197318956}"
      ]
     },
     "execution_count": 59,
     "metadata": {},
     "output_type": "execute_result"
    }
   ],
   "source": [
    "mapping"
   ]
  },
  {
   "cell_type": "code",
   "execution_count": 60,
   "metadata": {
    "collapsed": true
   },
   "outputs": [],
   "source": [
    "race_per_hundredk = {}"
   ]
  },
  {
   "cell_type": "code",
   "execution_count": 61,
   "metadata": {
    "collapsed": false
   },
   "outputs": [
    {
     "name": "stdout",
     "output_type": "stream",
     "text": [
      "40250635\n",
      "3739506\n",
      "197318956\n",
      "15834141\n",
      "44618105\n"
     ]
    }
   ],
   "source": [
    "for each in race_counts:\n",
    "    print(mapping[each])"
   ]
  },
  {
   "cell_type": "code",
   "execution_count": 62,
   "metadata": {
    "collapsed": false
   },
   "outputs": [],
   "source": [
    "for k,v in race_counts.items():\n",
    "    race_per_hundredk[k] = v/mapping[k]*100000"
   ]
  },
  {
   "cell_type": "code",
   "execution_count": 63,
   "metadata": {
    "collapsed": false
   },
   "outputs": [
    {
     "data": {
      "text/plain": [
       "{'Asian/Pacific Islander': 8.374309664161762,\n",
       " 'Black': 57.8773477735196,\n",
       " 'Hispanic': 20.220491210910907,\n",
       " 'Native American/Native Alaskan': 24.521955573811088,\n",
       " 'White': 33.56849303419181}"
      ]
     },
     "execution_count": 63,
     "metadata": {},
     "output_type": "execute_result"
    }
   ],
   "source": [
    "race_per_hundredk"
   ]
  },
  {
   "cell_type": "code",
   "execution_count": 64,
   "metadata": {
    "collapsed": false
   },
   "outputs": [
    {
     "data": {
      "text/plain": [
       "['',\n",
       " 'year',\n",
       " 'month',\n",
       " 'intent',\n",
       " 'police',\n",
       " 'sex',\n",
       " 'age',\n",
       " 'race',\n",
       " 'hispanic',\n",
       " 'place',\n",
       " 'education']"
      ]
     },
     "execution_count": 64,
     "metadata": {},
     "output_type": "execute_result"
    }
   ],
   "source": [
    "headers"
   ]
  },
  {
   "cell_type": "code",
   "execution_count": 65,
   "metadata": {
    "collapsed": true
   },
   "outputs": [],
   "source": [
    "intents = [death[3] for death in guns]"
   ]
  },
  {
   "cell_type": "code",
   "execution_count": 66,
   "metadata": {
    "collapsed": false
   },
   "outputs": [
    {
     "data": {
      "text/plain": [
       "['Suicide',\n",
       " 'Suicide',\n",
       " 'Suicide',\n",
       " 'Suicide',\n",
       " 'Suicide',\n",
       " 'Suicide',\n",
       " 'Undetermined',\n",
       " 'Suicide',\n",
       " 'Accidental',\n",
       " 'Suicide',\n",
       " 'Suicide',\n",
       " 'Suicide',\n",
       " 'Suicide',\n",
       " 'Suicide',\n",
       " 'Homicide',\n",
       " 'Suicide',\n",
       " 'Suicide',\n",
       " 'Suicide',\n",
       " 'Homicide',\n",
       " 'Suicide',\n",
       " 'Suicide',\n",
       " 'Suicide',\n",
       " 'Homicide',\n",
       " 'Suicide',\n",
       " 'Homicide',\n",
       " 'Homicide',\n",
       " 'Suicide',\n",
       " 'Suicide',\n",
       " 'Suicide',\n",
       " 'Homicide',\n",
       " 'Suicide',\n",
       " 'Suicide',\n",
       " 'Suicide',\n",
       " 'Suicide',\n",
       " 'Homicide',\n",
       " 'Undetermined',\n",
       " 'Suicide',\n",
       " 'Suicide',\n",
       " 'Suicide',\n",
       " 'Suicide',\n",
       " 'Suicide',\n",
       " 'Homicide',\n",
       " 'Suicide',\n",
       " 'Suicide',\n",
       " 'Suicide',\n",
       " 'Suicide',\n",
       " 'Suicide',\n",
       " 'Homicide',\n",
       " 'Homicide',\n",
       " 'Homicide',\n",
       " 'Suicide',\n",
       " 'Suicide',\n",
       " 'Suicide',\n",
       " 'Undetermined',\n",
       " 'Suicide',\n",
       " 'Suicide',\n",
       " 'Accidental',\n",
       " 'Homicide',\n",
       " 'Suicide',\n",
       " 'Homicide',\n",
       " 'Suicide',\n",
       " 'Homicide',\n",
       " 'Suicide',\n",
       " 'Suicide',\n",
       " 'Suicide',\n",
       " 'Suicide',\n",
       " 'Suicide',\n",
       " 'Suicide',\n",
       " 'Suicide',\n",
       " 'Suicide',\n",
       " 'Suicide',\n",
       " 'Accidental',\n",
       " 'Suicide',\n",
       " 'Accidental',\n",
       " 'Suicide',\n",
       " 'Undetermined',\n",
       " 'Suicide',\n",
       " 'Suicide',\n",
       " 'Suicide',\n",
       " 'Homicide',\n",
       " 'Suicide',\n",
       " 'Suicide',\n",
       " 'Suicide',\n",
       " 'Homicide',\n",
       " 'Suicide',\n",
       " 'Homicide',\n",
       " 'Suicide',\n",
       " 'Suicide',\n",
       " 'Suicide',\n",
       " 'Suicide',\n",
       " 'Undetermined',\n",
       " 'Suicide',\n",
       " 'Homicide',\n",
       " 'Accidental',\n",
       " 'Suicide',\n",
       " 'Suicide',\n",
       " 'Suicide',\n",
       " 'Homicide',\n",
       " 'Suicide',\n",
       " 'Undetermined',\n",
       " 'Suicide',\n",
       " 'Suicide',\n",
       " 'Suicide',\n",
       " 'Homicide',\n",
       " 'Suicide',\n",
       " 'Suicide',\n",
       " 'Suicide',\n",
       " 'Suicide',\n",
       " 'Suicide',\n",
       " 'Suicide',\n",
       " 'Suicide',\n",
       " 'Suicide',\n",
       " 'Suicide',\n",
       " 'Suicide',\n",
       " 'Suicide',\n",
       " 'Suicide',\n",
       " 'Suicide',\n",
       " 'Suicide',\n",
       " 'Suicide',\n",
       " 'Suicide',\n",
       " 'Suicide',\n",
       " 'Suicide',\n",
       " 'Suicide',\n",
       " 'Suicide',\n",
       " 'Suicide',\n",
       " 'Homicide',\n",
       " 'Undetermined',\n",
       " 'Suicide',\n",
       " 'Suicide',\n",
       " 'Suicide',\n",
       " 'Accidental',\n",
       " 'Suicide',\n",
       " 'Suicide',\n",
       " 'Undetermined',\n",
       " 'Suicide',\n",
       " 'Suicide',\n",
       " 'Homicide',\n",
       " 'Suicide',\n",
       " 'Suicide',\n",
       " 'Accidental',\n",
       " 'Homicide',\n",
       " 'Suicide',\n",
       " 'Suicide',\n",
       " 'Suicide',\n",
       " 'Suicide',\n",
       " 'Homicide',\n",
       " 'Suicide',\n",
       " 'Undetermined',\n",
       " 'Suicide',\n",
       " 'Suicide',\n",
       " 'Suicide',\n",
       " 'Homicide',\n",
       " 'Suicide',\n",
       " 'Suicide',\n",
       " 'Suicide',\n",
       " 'Suicide',\n",
       " 'Homicide',\n",
       " 'Homicide',\n",
       " 'Suicide',\n",
       " 'Homicide',\n",
       " 'Suicide',\n",
       " 'Homicide',\n",
       " 'Homicide',\n",
       " 'Homicide',\n",
       " 'Homicide',\n",
       " 'Suicide',\n",
       " 'Homicide',\n",
       " 'Suicide',\n",
       " 'Undetermined',\n",
       " 'Homicide',\n",
       " 'Suicide',\n",
       " 'Suicide',\n",
       " 'Homicide',\n",
       " 'Suicide',\n",
       " 'Suicide',\n",
       " 'Homicide',\n",
       " 'Homicide',\n",
       " 'Suicide',\n",
       " 'Suicide',\n",
       " 'Homicide',\n",
       " 'Suicide',\n",
       " 'Suicide',\n",
       " 'Homicide',\n",
       " 'Suicide',\n",
       " 'Homicide',\n",
       " 'Homicide',\n",
       " 'Suicide',\n",
       " 'Homicide',\n",
       " 'Homicide',\n",
       " 'Homicide',\n",
       " 'Homicide',\n",
       " 'Homicide',\n",
       " 'Homicide',\n",
       " 'Suicide',\n",
       " 'Homicide',\n",
       " 'Suicide',\n",
       " 'Homicide',\n",
       " 'Homicide',\n",
       " 'Homicide',\n",
       " 'Suicide',\n",
       " 'Homicide',\n",
       " 'Homicide',\n",
       " 'Suicide',\n",
       " 'Suicide',\n",
       " 'Suicide',\n",
       " 'Homicide',\n",
       " 'Homicide',\n",
       " 'Suicide',\n",
       " 'Homicide',\n",
       " 'Suicide',\n",
       " 'Suicide',\n",
       " 'Homicide',\n",
       " 'Homicide',\n",
       " 'Suicide',\n",
       " 'Suicide',\n",
       " 'Homicide',\n",
       " 'Homicide',\n",
       " 'Suicide',\n",
       " 'Suicide',\n",
       " 'Suicide',\n",
       " 'Suicide',\n",
       " 'Suicide',\n",
       " 'Homicide',\n",
       " 'Suicide',\n",
       " 'Suicide',\n",
       " 'Suicide',\n",
       " 'Suicide',\n",
       " 'Suicide',\n",
       " 'Suicide',\n",
       " 'Homicide',\n",
       " 'Homicide',\n",
       " 'Suicide',\n",
       " 'Accidental',\n",
       " 'Homicide',\n",
       " 'Suicide',\n",
       " 'Suicide',\n",
       " 'Suicide',\n",
       " 'Suicide',\n",
       " 'Suicide',\n",
       " 'Suicide',\n",
       " 'Suicide',\n",
       " 'Suicide',\n",
       " 'Suicide',\n",
       " 'Suicide',\n",
       " 'Homicide',\n",
       " 'Suicide',\n",
       " 'Suicide',\n",
       " 'Homicide',\n",
       " 'Suicide',\n",
       " 'Homicide',\n",
       " 'Suicide',\n",
       " 'Homicide',\n",
       " 'Homicide',\n",
       " 'Suicide',\n",
       " 'Suicide',\n",
       " 'Homicide',\n",
       " 'Suicide',\n",
       " 'Suicide',\n",
       " 'Suicide',\n",
       " 'Suicide',\n",
       " 'Suicide',\n",
       " 'Suicide',\n",
       " 'Undetermined',\n",
       " 'Suicide',\n",
       " 'Suicide',\n",
       " 'Suicide',\n",
       " 'Homicide',\n",
       " 'Suicide',\n",
       " 'Suicide',\n",
       " 'Suicide',\n",
       " 'Suicide',\n",
       " 'Suicide',\n",
       " 'Homicide',\n",
       " 'Homicide',\n",
       " 'Suicide',\n",
       " 'Suicide',\n",
       " 'Suicide',\n",
       " 'Suicide',\n",
       " 'Suicide',\n",
       " 'Suicide',\n",
       " 'Suicide',\n",
       " 'Homicide',\n",
       " 'Suicide',\n",
       " 'Suicide',\n",
       " 'Homicide',\n",
       " 'Suicide',\n",
       " 'Suicide',\n",
       " 'Suicide',\n",
       " 'Suicide',\n",
       " 'Accidental',\n",
       " 'Suicide',\n",
       " 'Homicide',\n",
       " 'Suicide',\n",
       " 'Suicide',\n",
       " 'Suicide',\n",
       " 'Homicide',\n",
       " 'Homicide',\n",
       " 'Homicide',\n",
       " 'Suicide',\n",
       " 'Suicide',\n",
       " 'Suicide',\n",
       " 'Suicide',\n",
       " 'Suicide',\n",
       " 'Suicide',\n",
       " 'Homicide',\n",
       " 'Suicide',\n",
       " 'Suicide',\n",
       " 'Suicide',\n",
       " 'Homicide',\n",
       " 'Suicide',\n",
       " 'Suicide',\n",
       " 'Homicide',\n",
       " 'Homicide',\n",
       " 'Suicide',\n",
       " 'Suicide',\n",
       " 'Suicide',\n",
       " 'Suicide',\n",
       " 'Accidental',\n",
       " 'Suicide',\n",
       " 'Suicide',\n",
       " 'Homicide',\n",
       " 'Suicide',\n",
       " 'Suicide',\n",
       " 'Suicide',\n",
       " 'Suicide',\n",
       " 'Homicide',\n",
       " 'Suicide',\n",
       " 'Suicide',\n",
       " 'Suicide',\n",
       " 'Homicide',\n",
       " 'Suicide',\n",
       " 'Suicide',\n",
       " 'Suicide',\n",
       " 'Homicide',\n",
       " 'Suicide',\n",
       " 'Homicide',\n",
       " 'Suicide',\n",
       " 'Suicide',\n",
       " 'Suicide',\n",
       " 'Suicide',\n",
       " 'Suicide',\n",
       " 'Homicide',\n",
       " 'Suicide',\n",
       " 'Homicide',\n",
       " 'Suicide',\n",
       " 'Suicide',\n",
       " 'Suicide',\n",
       " 'Suicide',\n",
       " 'Suicide',\n",
       " 'Suicide',\n",
       " 'Homicide',\n",
       " 'Suicide',\n",
       " 'Suicide',\n",
       " 'Homicide',\n",
       " 'Accidental',\n",
       " 'Suicide',\n",
       " 'Suicide',\n",
       " 'Suicide',\n",
       " 'Suicide',\n",
       " 'Undetermined',\n",
       " 'Homicide',\n",
       " 'Suicide',\n",
       " 'Suicide',\n",
       " 'Homicide',\n",
       " 'Accidental',\n",
       " 'Homicide',\n",
       " 'Suicide',\n",
       " 'Homicide',\n",
       " 'Homicide',\n",
       " 'Suicide',\n",
       " 'Homicide',\n",
       " 'Homicide',\n",
       " 'Suicide',\n",
       " 'Suicide',\n",
       " 'Suicide',\n",
       " 'Suicide',\n",
       " 'Suicide',\n",
       " 'Homicide',\n",
       " 'Suicide',\n",
       " 'Suicide',\n",
       " 'Suicide',\n",
       " 'Suicide',\n",
       " 'Suicide',\n",
       " 'Homicide',\n",
       " 'Homicide',\n",
       " 'Suicide',\n",
       " 'Homicide',\n",
       " 'Suicide',\n",
       " 'Suicide',\n",
       " 'Suicide',\n",
       " 'Suicide',\n",
       " 'Suicide',\n",
       " 'Homicide',\n",
       " 'Suicide',\n",
       " 'Suicide',\n",
       " 'Homicide',\n",
       " 'Suicide',\n",
       " 'Suicide',\n",
       " 'Suicide',\n",
       " 'Suicide',\n",
       " 'Suicide',\n",
       " 'Suicide',\n",
       " 'Suicide',\n",
       " 'Suicide',\n",
       " 'Suicide',\n",
       " 'Suicide',\n",
       " 'Homicide',\n",
       " 'Suicide',\n",
       " 'Suicide',\n",
       " 'Suicide',\n",
       " 'Suicide',\n",
       " 'Homicide',\n",
       " 'Homicide',\n",
       " 'Suicide',\n",
       " 'Suicide',\n",
       " 'Suicide',\n",
       " 'Homicide',\n",
       " 'Homicide',\n",
       " 'Homicide',\n",
       " 'Suicide',\n",
       " 'Suicide',\n",
       " 'Homicide',\n",
       " 'Suicide',\n",
       " 'Suicide',\n",
       " 'Homicide',\n",
       " 'Suicide',\n",
       " 'Suicide',\n",
       " 'Suicide',\n",
       " 'Accidental',\n",
       " 'Suicide',\n",
       " 'Suicide',\n",
       " 'Homicide',\n",
       " 'Homicide',\n",
       " 'Suicide',\n",
       " 'Suicide',\n",
       " 'Suicide',\n",
       " 'Suicide',\n",
       " 'Suicide',\n",
       " 'Homicide',\n",
       " 'Suicide',\n",
       " 'Homicide',\n",
       " 'Homicide',\n",
       " 'Homicide',\n",
       " 'Homicide',\n",
       " 'Suicide',\n",
       " 'Homicide',\n",
       " 'Suicide',\n",
       " 'Homicide',\n",
       " 'Suicide',\n",
       " 'Suicide',\n",
       " 'Suicide',\n",
       " 'Homicide',\n",
       " 'Suicide',\n",
       " 'Suicide',\n",
       " 'Suicide',\n",
       " 'Suicide',\n",
       " 'Homicide',\n",
       " 'Suicide',\n",
       " 'Homicide',\n",
       " 'Homicide',\n",
       " 'Homicide',\n",
       " 'Suicide',\n",
       " 'Accidental',\n",
       " 'Suicide',\n",
       " 'Suicide',\n",
       " 'Suicide',\n",
       " 'Suicide',\n",
       " 'Suicide',\n",
       " 'Suicide',\n",
       " 'Homicide',\n",
       " 'Homicide',\n",
       " 'Suicide',\n",
       " 'Homicide',\n",
       " 'Homicide',\n",
       " 'Suicide',\n",
       " 'Homicide',\n",
       " 'Homicide',\n",
       " 'Suicide',\n",
       " 'Suicide',\n",
       " 'Homicide',\n",
       " 'Suicide',\n",
       " 'Suicide',\n",
       " 'Suicide',\n",
       " 'Homicide',\n",
       " 'Homicide',\n",
       " 'Suicide',\n",
       " 'Homicide',\n",
       " 'Suicide',\n",
       " 'Suicide',\n",
       " 'Suicide',\n",
       " 'Suicide',\n",
       " 'Homicide',\n",
       " 'Suicide',\n",
       " 'Homicide',\n",
       " 'Homicide',\n",
       " 'Homicide',\n",
       " 'Homicide',\n",
       " 'Homicide',\n",
       " 'Suicide',\n",
       " 'Suicide',\n",
       " 'Homicide',\n",
       " 'Suicide',\n",
       " 'Homicide',\n",
       " 'Suicide',\n",
       " 'Homicide',\n",
       " 'Suicide',\n",
       " 'Suicide',\n",
       " 'Suicide',\n",
       " 'Homicide',\n",
       " 'Suicide',\n",
       " 'Homicide',\n",
       " 'Suicide',\n",
       " 'Homicide',\n",
       " 'Suicide',\n",
       " 'Homicide',\n",
       " 'Suicide',\n",
       " 'Suicide',\n",
       " 'Suicide',\n",
       " 'Suicide',\n",
       " 'Homicide',\n",
       " 'Suicide',\n",
       " 'Suicide',\n",
       " 'Suicide',\n",
       " 'Suicide',\n",
       " 'Suicide',\n",
       " 'Homicide',\n",
       " 'Suicide',\n",
       " 'Homicide',\n",
       " 'Suicide',\n",
       " 'Homicide',\n",
       " 'Suicide',\n",
       " 'Homicide',\n",
       " 'Suicide',\n",
       " 'Suicide',\n",
       " 'Homicide',\n",
       " 'Suicide',\n",
       " 'Suicide',\n",
       " 'Suicide',\n",
       " 'Homicide',\n",
       " 'Suicide',\n",
       " 'Suicide',\n",
       " 'Suicide',\n",
       " 'Suicide',\n",
       " 'Accidental',\n",
       " 'Suicide',\n",
       " 'Suicide',\n",
       " 'Suicide',\n",
       " 'Homicide',\n",
       " 'Suicide',\n",
       " 'Suicide',\n",
       " 'Suicide',\n",
       " 'Suicide',\n",
       " 'Homicide',\n",
       " 'Suicide',\n",
       " 'Homicide',\n",
       " 'Homicide',\n",
       " 'Suicide',\n",
       " 'Suicide',\n",
       " 'Suicide',\n",
       " 'Homicide',\n",
       " 'Accidental',\n",
       " 'Homicide',\n",
       " 'Suicide',\n",
       " 'Homicide',\n",
       " 'Homicide',\n",
       " 'Suicide',\n",
       " 'Homicide',\n",
       " 'Suicide',\n",
       " 'Homicide',\n",
       " 'Suicide',\n",
       " 'Suicide',\n",
       " 'Suicide',\n",
       " 'Suicide',\n",
       " 'Suicide',\n",
       " 'Homicide',\n",
       " 'Homicide',\n",
       " 'Suicide',\n",
       " 'Homicide',\n",
       " 'Suicide',\n",
       " 'Suicide',\n",
       " 'Homicide',\n",
       " 'Suicide',\n",
       " 'Homicide',\n",
       " 'Suicide',\n",
       " 'Suicide',\n",
       " 'Suicide',\n",
       " 'Suicide',\n",
       " 'Suicide',\n",
       " 'Suicide',\n",
       " 'Suicide',\n",
       " 'Homicide',\n",
       " 'Suicide',\n",
       " 'Homicide',\n",
       " 'Suicide',\n",
       " 'Suicide',\n",
       " 'Suicide',\n",
       " 'Suicide',\n",
       " 'Homicide',\n",
       " 'Suicide',\n",
       " 'Suicide',\n",
       " 'Suicide',\n",
       " 'Suicide',\n",
       " 'Suicide',\n",
       " 'Homicide',\n",
       " 'Homicide',\n",
       " 'Suicide',\n",
       " 'Suicide',\n",
       " 'Homicide',\n",
       " 'Suicide',\n",
       " 'Suicide',\n",
       " 'Accidental',\n",
       " 'Suicide',\n",
       " 'Suicide',\n",
       " 'Suicide',\n",
       " 'Homicide',\n",
       " 'Suicide',\n",
       " 'Homicide',\n",
       " 'Suicide',\n",
       " 'Suicide',\n",
       " 'Homicide',\n",
       " 'Suicide',\n",
       " 'Suicide',\n",
       " 'Suicide',\n",
       " 'Suicide',\n",
       " 'Suicide',\n",
       " 'Suicide',\n",
       " 'Suicide',\n",
       " 'Suicide',\n",
       " 'Accidental',\n",
       " 'Homicide',\n",
       " 'Suicide',\n",
       " 'Suicide',\n",
       " 'Suicide',\n",
       " 'Homicide',\n",
       " 'Homicide',\n",
       " 'Suicide',\n",
       " 'Suicide',\n",
       " 'Homicide',\n",
       " 'Suicide',\n",
       " 'Suicide',\n",
       " 'Suicide',\n",
       " 'Homicide',\n",
       " 'Suicide',\n",
       " 'Suicide',\n",
       " 'Homicide',\n",
       " 'Homicide',\n",
       " 'Suicide',\n",
       " 'Homicide',\n",
       " 'Suicide',\n",
       " 'Suicide',\n",
       " 'Homicide',\n",
       " 'Suicide',\n",
       " 'Suicide',\n",
       " 'Suicide',\n",
       " 'Suicide',\n",
       " 'Suicide',\n",
       " 'Homicide',\n",
       " 'Homicide',\n",
       " 'Homicide',\n",
       " 'Homicide',\n",
       " 'Suicide',\n",
       " 'Suicide',\n",
       " 'Homicide',\n",
       " 'Homicide',\n",
       " 'Suicide',\n",
       " 'Homicide',\n",
       " 'Suicide',\n",
       " 'Suicide',\n",
       " 'Suicide',\n",
       " 'Suicide',\n",
       " 'Suicide',\n",
       " 'Suicide',\n",
       " 'Homicide',\n",
       " 'Suicide',\n",
       " 'Suicide',\n",
       " 'Suicide',\n",
       " 'Homicide',\n",
       " 'Suicide',\n",
       " 'Homicide',\n",
       " 'Suicide',\n",
       " 'Homicide',\n",
       " 'Homicide',\n",
       " 'Suicide',\n",
       " 'Undetermined',\n",
       " 'Suicide',\n",
       " 'Suicide',\n",
       " 'Homicide',\n",
       " 'Suicide',\n",
       " 'Suicide',\n",
       " 'Suicide',\n",
       " 'Suicide',\n",
       " 'Homicide',\n",
       " 'Suicide',\n",
       " 'Homicide',\n",
       " 'Suicide',\n",
       " 'Homicide',\n",
       " 'Homicide',\n",
       " 'Suicide',\n",
       " 'Suicide',\n",
       " 'Homicide',\n",
       " 'Suicide',\n",
       " 'Undetermined',\n",
       " 'Suicide',\n",
       " 'Suicide',\n",
       " 'Suicide',\n",
       " 'Suicide',\n",
       " 'Suicide',\n",
       " 'Suicide',\n",
       " 'Suicide',\n",
       " 'Homicide',\n",
       " 'Homicide',\n",
       " 'Homicide',\n",
       " 'Homicide',\n",
       " 'Suicide',\n",
       " 'Homicide',\n",
       " 'Homicide',\n",
       " 'Suicide',\n",
       " 'Suicide',\n",
       " 'Suicide',\n",
       " 'Homicide',\n",
       " 'Homicide',\n",
       " 'Suicide',\n",
       " 'Homicide',\n",
       " 'Suicide',\n",
       " 'Suicide',\n",
       " 'Homicide',\n",
       " 'Homicide',\n",
       " 'Suicide',\n",
       " 'Homicide',\n",
       " 'Suicide',\n",
       " 'Suicide',\n",
       " 'Homicide',\n",
       " 'Homicide',\n",
       " 'Homicide',\n",
       " 'Suicide',\n",
       " 'Suicide',\n",
       " 'Homicide',\n",
       " 'Suicide',\n",
       " 'Suicide',\n",
       " 'Suicide',\n",
       " 'Suicide',\n",
       " 'Undetermined',\n",
       " 'Suicide',\n",
       " 'Undetermined',\n",
       " 'Suicide',\n",
       " 'Suicide',\n",
       " 'Suicide',\n",
       " 'Suicide',\n",
       " 'Suicide',\n",
       " 'Homicide',\n",
       " 'Homicide',\n",
       " 'Homicide',\n",
       " 'Homicide',\n",
       " 'Homicide',\n",
       " 'Homicide',\n",
       " 'Suicide',\n",
       " 'Homicide',\n",
       " 'Suicide',\n",
       " 'Suicide',\n",
       " 'Homicide',\n",
       " 'Suicide',\n",
       " 'Suicide',\n",
       " 'Suicide',\n",
       " 'Homicide',\n",
       " 'Suicide',\n",
       " 'Homicide',\n",
       " 'Suicide',\n",
       " 'Suicide',\n",
       " 'Suicide',\n",
       " 'Suicide',\n",
       " 'Suicide',\n",
       " 'Suicide',\n",
       " 'Suicide',\n",
       " 'Suicide',\n",
       " 'Suicide',\n",
       " 'Homicide',\n",
       " 'Homicide',\n",
       " 'Homicide',\n",
       " 'Suicide',\n",
       " 'Suicide',\n",
       " 'Homicide',\n",
       " 'Suicide',\n",
       " 'Homicide',\n",
       " 'Homicide',\n",
       " 'Homicide',\n",
       " 'Homicide',\n",
       " 'Suicide',\n",
       " 'Suicide',\n",
       " 'Suicide',\n",
       " 'Homicide',\n",
       " 'Suicide',\n",
       " 'Suicide',\n",
       " 'Suicide',\n",
       " 'Suicide',\n",
       " 'Suicide',\n",
       " 'Suicide',\n",
       " 'Suicide',\n",
       " 'Suicide',\n",
       " 'Suicide',\n",
       " 'Suicide',\n",
       " 'Suicide',\n",
       " 'Suicide',\n",
       " 'Suicide',\n",
       " 'Homicide',\n",
       " 'Suicide',\n",
       " 'Suicide',\n",
       " 'Suicide',\n",
       " 'Homicide',\n",
       " 'Suicide',\n",
       " 'Suicide',\n",
       " 'Suicide',\n",
       " 'Suicide',\n",
       " 'Homicide',\n",
       " 'Suicide',\n",
       " 'Suicide',\n",
       " 'Suicide',\n",
       " 'Homicide',\n",
       " 'Homicide',\n",
       " 'Homicide',\n",
       " 'Suicide',\n",
       " 'Suicide',\n",
       " 'Suicide',\n",
       " 'Suicide',\n",
       " 'Suicide',\n",
       " 'Suicide',\n",
       " 'Suicide',\n",
       " 'Accidental',\n",
       " 'Homicide',\n",
       " 'Homicide',\n",
       " 'Homicide',\n",
       " 'Homicide',\n",
       " 'Homicide',\n",
       " 'Suicide',\n",
       " 'Suicide',\n",
       " 'Suicide',\n",
       " 'Suicide',\n",
       " 'Homicide',\n",
       " 'Suicide',\n",
       " 'Homicide',\n",
       " 'Homicide',\n",
       " 'Homicide',\n",
       " 'Homicide',\n",
       " 'Suicide',\n",
       " 'Suicide',\n",
       " 'Accidental',\n",
       " 'Suicide',\n",
       " 'Suicide',\n",
       " 'Suicide',\n",
       " 'Suicide',\n",
       " 'Suicide',\n",
       " 'Homicide',\n",
       " 'Suicide',\n",
       " 'Suicide',\n",
       " 'Homicide',\n",
       " 'Suicide',\n",
       " 'Homicide',\n",
       " 'Homicide',\n",
       " 'Homicide',\n",
       " 'Suicide',\n",
       " 'Suicide',\n",
       " 'Homicide',\n",
       " 'Homicide',\n",
       " 'Suicide',\n",
       " 'Homicide',\n",
       " 'Suicide',\n",
       " 'Suicide',\n",
       " 'Suicide',\n",
       " 'Suicide',\n",
       " 'Homicide',\n",
       " 'Suicide',\n",
       " 'Homicide',\n",
       " 'Homicide',\n",
       " 'Homicide',\n",
       " 'Homicide',\n",
       " 'Homicide',\n",
       " 'Homicide',\n",
       " 'Suicide',\n",
       " 'Suicide',\n",
       " 'Suicide',\n",
       " 'Homicide',\n",
       " 'Homicide',\n",
       " 'Suicide',\n",
       " 'Suicide',\n",
       " 'Suicide',\n",
       " 'Homicide',\n",
       " 'Homicide',\n",
       " 'Homicide',\n",
       " 'Suicide',\n",
       " 'Homicide',\n",
       " 'Homicide',\n",
       " 'Homicide',\n",
       " 'Homicide',\n",
       " 'Homicide',\n",
       " 'Homicide',\n",
       " 'Suicide',\n",
       " 'Homicide',\n",
       " 'Homicide',\n",
       " 'Suicide',\n",
       " 'Suicide',\n",
       " 'Homicide',\n",
       " 'Suicide',\n",
       " 'Homicide',\n",
       " 'Homicide',\n",
       " 'Suicide',\n",
       " 'Homicide',\n",
       " 'Homicide',\n",
       " 'Homicide',\n",
       " 'Homicide',\n",
       " 'Homicide',\n",
       " 'Homicide',\n",
       " 'Suicide',\n",
       " 'Homicide',\n",
       " 'Suicide',\n",
       " 'Homicide',\n",
       " 'Homicide',\n",
       " 'Suicide',\n",
       " 'Homicide',\n",
       " 'Homicide',\n",
       " 'Homicide',\n",
       " 'Homicide',\n",
       " 'Suicide',\n",
       " 'Homicide',\n",
       " 'Suicide',\n",
       " 'Suicide',\n",
       " 'Suicide',\n",
       " 'Suicide',\n",
       " 'Suicide',\n",
       " 'Homicide',\n",
       " 'Homicide',\n",
       " 'Suicide',\n",
       " 'Accidental',\n",
       " 'Suicide',\n",
       " 'Homicide',\n",
       " 'Homicide',\n",
       " 'Suicide',\n",
       " 'Undetermined',\n",
       " 'Suicide',\n",
       " 'Homicide',\n",
       " 'Homicide',\n",
       " 'Suicide',\n",
       " 'Suicide',\n",
       " 'Homicide',\n",
       " 'Homicide',\n",
       " 'Homicide',\n",
       " 'Homicide',\n",
       " 'Homicide',\n",
       " 'Homicide',\n",
       " 'Homicide',\n",
       " 'Homicide',\n",
       " 'Homicide',\n",
       " 'Homicide',\n",
       " 'Homicide',\n",
       " 'Suicide',\n",
       " 'Suicide',\n",
       " 'Homicide',\n",
       " 'Suicide',\n",
       " 'Suicide',\n",
       " 'Homicide',\n",
       " 'Homicide',\n",
       " 'Homicide',\n",
       " 'Suicide',\n",
       " 'Homicide',\n",
       " 'Homicide',\n",
       " 'Suicide',\n",
       " 'Homicide',\n",
       " 'Homicide',\n",
       " 'Suicide',\n",
       " 'Suicide',\n",
       " 'Suicide',\n",
       " 'Suicide',\n",
       " 'Suicide',\n",
       " 'Suicide',\n",
       " 'Homicide',\n",
       " 'Suicide',\n",
       " 'Suicide',\n",
       " 'Suicide',\n",
       " 'Suicide',\n",
       " 'Homicide',\n",
       " 'Homicide',\n",
       " 'Suicide',\n",
       " 'Suicide',\n",
       " 'Suicide',\n",
       " 'Suicide',\n",
       " 'Homicide',\n",
       " 'Homicide',\n",
       " 'Homicide',\n",
       " 'Suicide',\n",
       " 'Suicide',\n",
       " 'Homicide',\n",
       " 'Suicide',\n",
       " 'Suicide',\n",
       " 'Suicide',\n",
       " 'Suicide',\n",
       " 'Suicide',\n",
       " 'Suicide',\n",
       " 'Suicide',\n",
       " 'Suicide',\n",
       " 'Suicide',\n",
       " 'Suicide',\n",
       " 'Homicide',\n",
       " ...]"
      ]
     },
     "execution_count": 66,
     "metadata": {},
     "output_type": "execute_result"
    }
   ],
   "source": [
    "intents"
   ]
  },
  {
   "cell_type": "code",
   "execution_count": 67,
   "metadata": {
    "collapsed": true
   },
   "outputs": [],
   "source": [
    "races = [death[7] for death in guns]"
   ]
  },
  {
   "cell_type": "code",
   "execution_count": 68,
   "metadata": {
    "collapsed": false
   },
   "outputs": [
    {
     "data": {
      "text/plain": [
       "['Asian/Pacific Islander',\n",
       " 'White',\n",
       " 'White',\n",
       " 'White',\n",
       " 'White',\n",
       " 'Native American/Native Alaskan',\n",
       " 'White',\n",
       " 'Native American/Native Alaskan',\n",
       " 'White',\n",
       " 'Black',\n",
       " 'White',\n",
       " 'Native American/Native Alaskan',\n",
       " 'White',\n",
       " 'Native American/Native Alaskan',\n",
       " 'White',\n",
       " 'Native American/Native Alaskan',\n",
       " 'White',\n",
       " 'Native American/Native Alaskan',\n",
       " 'Asian/Pacific Islander',\n",
       " 'White',\n",
       " 'Native American/Native Alaskan',\n",
       " 'White',\n",
       " 'Black',\n",
       " 'White',\n",
       " 'White',\n",
       " 'White',\n",
       " 'Native American/Native Alaskan',\n",
       " 'White',\n",
       " 'White',\n",
       " 'White',\n",
       " 'Native American/Native Alaskan',\n",
       " 'White',\n",
       " 'Native American/Native Alaskan',\n",
       " 'White',\n",
       " 'White',\n",
       " 'White',\n",
       " 'Native American/Native Alaskan',\n",
       " 'Native American/Native Alaskan',\n",
       " 'White',\n",
       " 'White',\n",
       " 'Native American/Native Alaskan',\n",
       " 'Asian/Pacific Islander',\n",
       " 'White',\n",
       " 'Native American/Native Alaskan',\n",
       " 'Native American/Native Alaskan',\n",
       " 'White',\n",
       " 'White',\n",
       " 'White',\n",
       " 'Native American/Native Alaskan',\n",
       " 'Asian/Pacific Islander',\n",
       " 'White',\n",
       " 'White',\n",
       " 'Native American/Native Alaskan',\n",
       " 'Native American/Native Alaskan',\n",
       " 'White',\n",
       " 'White',\n",
       " 'Black',\n",
       " 'White',\n",
       " 'White',\n",
       " 'Black',\n",
       " 'White',\n",
       " 'White',\n",
       " 'White',\n",
       " 'White',\n",
       " 'White',\n",
       " 'White',\n",
       " 'Native American/Native Alaskan',\n",
       " 'White',\n",
       " 'White',\n",
       " 'Native American/Native Alaskan',\n",
       " 'White',\n",
       " 'White',\n",
       " 'White',\n",
       " 'White',\n",
       " 'White',\n",
       " 'Native American/Native Alaskan',\n",
       " 'White',\n",
       " 'Asian/Pacific Islander',\n",
       " 'White',\n",
       " 'White',\n",
       " 'Native American/Native Alaskan',\n",
       " 'White',\n",
       " 'White',\n",
       " 'White',\n",
       " 'White',\n",
       " 'Native American/Native Alaskan',\n",
       " 'White',\n",
       " 'White',\n",
       " 'Black',\n",
       " 'Native American/Native Alaskan',\n",
       " 'White',\n",
       " 'White',\n",
       " 'Native American/Native Alaskan',\n",
       " 'Hispanic',\n",
       " 'White',\n",
       " 'White',\n",
       " 'White',\n",
       " 'White',\n",
       " 'White',\n",
       " 'White',\n",
       " 'Native American/Native Alaskan',\n",
       " 'White',\n",
       " 'Hispanic',\n",
       " 'White',\n",
       " 'White',\n",
       " 'Black',\n",
       " 'White',\n",
       " 'White',\n",
       " 'Native American/Native Alaskan',\n",
       " 'Native American/Native Alaskan',\n",
       " 'White',\n",
       " 'White',\n",
       " 'White',\n",
       " 'White',\n",
       " 'Native American/Native Alaskan',\n",
       " 'Black',\n",
       " 'White',\n",
       " 'Native American/Native Alaskan',\n",
       " 'Asian/Pacific Islander',\n",
       " 'White',\n",
       " 'White',\n",
       " 'White',\n",
       " 'White',\n",
       " 'Black',\n",
       " 'White',\n",
       " 'White',\n",
       " 'White',\n",
       " 'White',\n",
       " 'Native American/Native Alaskan',\n",
       " 'White',\n",
       " 'White',\n",
       " 'White',\n",
       " 'White',\n",
       " 'White',\n",
       " 'White',\n",
       " 'White',\n",
       " 'Black',\n",
       " 'White',\n",
       " 'White',\n",
       " 'White',\n",
       " 'White',\n",
       " 'White',\n",
       " 'White',\n",
       " 'White',\n",
       " 'White',\n",
       " 'Black',\n",
       " 'White',\n",
       " 'White',\n",
       " 'White',\n",
       " 'White',\n",
       " 'White',\n",
       " 'White',\n",
       " 'White',\n",
       " 'Black',\n",
       " 'Black',\n",
       " 'White',\n",
       " 'Black',\n",
       " 'Hispanic',\n",
       " 'White',\n",
       " 'White',\n",
       " 'White',\n",
       " 'Black',\n",
       " 'White',\n",
       " 'White',\n",
       " 'Black',\n",
       " 'Black',\n",
       " 'Black',\n",
       " 'Black',\n",
       " 'White',\n",
       " 'White',\n",
       " 'Black',\n",
       " 'White',\n",
       " 'White',\n",
       " 'White',\n",
       " 'White',\n",
       " 'Black',\n",
       " 'White',\n",
       " 'White',\n",
       " 'White',\n",
       " 'Black',\n",
       " 'White',\n",
       " 'Black',\n",
       " 'Black',\n",
       " 'White',\n",
       " 'Black',\n",
       " 'Black',\n",
       " 'White',\n",
       " 'Black',\n",
       " 'Black',\n",
       " 'Black',\n",
       " 'Black',\n",
       " 'Hispanic',\n",
       " 'White',\n",
       " 'White',\n",
       " 'Black',\n",
       " 'White',\n",
       " 'White',\n",
       " 'Black',\n",
       " 'Black',\n",
       " 'White',\n",
       " 'Black',\n",
       " 'White',\n",
       " 'White',\n",
       " 'White',\n",
       " 'Black',\n",
       " 'Black',\n",
       " 'Black',\n",
       " 'White',\n",
       " 'White',\n",
       " 'White',\n",
       " 'Black',\n",
       " 'Black',\n",
       " 'Black',\n",
       " 'White',\n",
       " 'White',\n",
       " 'Black',\n",
       " 'Black',\n",
       " 'White',\n",
       " 'White',\n",
       " 'White',\n",
       " 'White',\n",
       " 'White',\n",
       " 'Black',\n",
       " 'White',\n",
       " 'Black',\n",
       " 'White',\n",
       " 'White',\n",
       " 'White',\n",
       " 'White',\n",
       " 'Black',\n",
       " 'Black',\n",
       " 'White',\n",
       " 'White',\n",
       " 'White',\n",
       " 'White',\n",
       " 'Black',\n",
       " 'Black',\n",
       " 'White',\n",
       " 'White',\n",
       " 'White',\n",
       " 'Black',\n",
       " 'White',\n",
       " 'White',\n",
       " 'White',\n",
       " 'Black',\n",
       " 'White',\n",
       " 'White',\n",
       " 'Black',\n",
       " 'Black',\n",
       " 'Black',\n",
       " 'White',\n",
       " 'Black',\n",
       " 'Black',\n",
       " 'White',\n",
       " 'White',\n",
       " 'Black',\n",
       " 'White',\n",
       " 'Hispanic',\n",
       " 'White',\n",
       " 'White',\n",
       " 'White',\n",
       " 'White',\n",
       " 'Black',\n",
       " 'White',\n",
       " 'Black',\n",
       " 'White',\n",
       " 'Black',\n",
       " 'White',\n",
       " 'White',\n",
       " 'White',\n",
       " 'White',\n",
       " 'White',\n",
       " 'Black',\n",
       " 'White',\n",
       " 'White',\n",
       " 'White',\n",
       " 'White',\n",
       " 'White',\n",
       " 'White',\n",
       " 'White',\n",
       " 'White',\n",
       " 'Black',\n",
       " 'Black',\n",
       " 'White',\n",
       " 'Black',\n",
       " 'White',\n",
       " 'Black',\n",
       " 'White',\n",
       " 'White',\n",
       " 'Black',\n",
       " 'White',\n",
       " 'Black',\n",
       " 'White',\n",
       " 'Black',\n",
       " 'Black',\n",
       " 'White',\n",
       " 'Black',\n",
       " 'Black',\n",
       " 'White',\n",
       " 'White',\n",
       " 'White',\n",
       " 'White',\n",
       " 'White',\n",
       " 'White',\n",
       " 'White',\n",
       " 'White',\n",
       " 'White',\n",
       " 'Black',\n",
       " 'Black',\n",
       " 'White',\n",
       " 'White',\n",
       " 'Black',\n",
       " 'White',\n",
       " 'White',\n",
       " 'White',\n",
       " 'White',\n",
       " 'White',\n",
       " 'White',\n",
       " 'White',\n",
       " 'White',\n",
       " 'White',\n",
       " 'White',\n",
       " 'Black',\n",
       " 'White',\n",
       " 'White',\n",
       " 'Black',\n",
       " 'White',\n",
       " 'White',\n",
       " 'White',\n",
       " 'Black',\n",
       " 'White',\n",
       " 'White',\n",
       " 'White',\n",
       " 'White',\n",
       " 'White',\n",
       " 'Black',\n",
       " 'White',\n",
       " 'White',\n",
       " 'White',\n",
       " 'White',\n",
       " 'White',\n",
       " 'Black',\n",
       " 'White',\n",
       " 'Black',\n",
       " 'White',\n",
       " 'Black',\n",
       " 'White',\n",
       " 'White',\n",
       " 'White',\n",
       " 'White',\n",
       " 'Black',\n",
       " 'White',\n",
       " 'Black',\n",
       " 'Black',\n",
       " 'Black',\n",
       " 'White',\n",
       " 'Black',\n",
       " 'White',\n",
       " 'Black',\n",
       " 'Black',\n",
       " 'Black',\n",
       " 'White',\n",
       " 'White',\n",
       " 'Black',\n",
       " 'White',\n",
       " 'Black',\n",
       " 'White',\n",
       " 'Black',\n",
       " 'Black',\n",
       " 'Black',\n",
       " 'Black',\n",
       " 'Black',\n",
       " 'White',\n",
       " 'White',\n",
       " 'White',\n",
       " 'Black',\n",
       " 'White',\n",
       " 'White',\n",
       " 'White',\n",
       " 'White',\n",
       " 'White',\n",
       " 'White',\n",
       " 'White',\n",
       " 'Black',\n",
       " 'White',\n",
       " 'White',\n",
       " 'Asian/Pacific Islander',\n",
       " 'White',\n",
       " 'White',\n",
       " 'White',\n",
       " 'White',\n",
       " 'White',\n",
       " 'Black',\n",
       " 'White',\n",
       " 'White',\n",
       " 'White',\n",
       " 'White',\n",
       " 'White',\n",
       " 'White',\n",
       " 'White',\n",
       " 'White',\n",
       " 'White',\n",
       " 'White',\n",
       " 'White',\n",
       " 'White',\n",
       " 'Black',\n",
       " 'White',\n",
       " 'White',\n",
       " 'White',\n",
       " 'White',\n",
       " 'White',\n",
       " 'Black',\n",
       " 'Black',\n",
       " 'White',\n",
       " 'Black',\n",
       " 'White',\n",
       " 'Black',\n",
       " 'White',\n",
       " 'White',\n",
       " 'White',\n",
       " 'White',\n",
       " 'Black',\n",
       " 'White',\n",
       " 'White',\n",
       " 'White',\n",
       " 'White',\n",
       " 'White',\n",
       " 'White',\n",
       " 'Black',\n",
       " 'White',\n",
       " 'White',\n",
       " 'White',\n",
       " 'White',\n",
       " 'Black',\n",
       " 'Black',\n",
       " 'White',\n",
       " 'White',\n",
       " 'White',\n",
       " 'Black',\n",
       " 'White',\n",
       " 'White',\n",
       " 'White',\n",
       " 'Black',\n",
       " 'White',\n",
       " 'White',\n",
       " 'Black',\n",
       " 'White',\n",
       " 'Black',\n",
       " 'White',\n",
       " 'White',\n",
       " 'White',\n",
       " 'White',\n",
       " 'White',\n",
       " 'White',\n",
       " 'White',\n",
       " 'White',\n",
       " 'White',\n",
       " 'White',\n",
       " 'Black',\n",
       " 'Black',\n",
       " 'Black',\n",
       " 'White',\n",
       " 'White',\n",
       " 'White',\n",
       " 'White',\n",
       " 'White',\n",
       " 'White',\n",
       " 'White',\n",
       " 'White',\n",
       " 'Black',\n",
       " 'Black',\n",
       " 'White',\n",
       " 'Black',\n",
       " 'Black',\n",
       " 'White',\n",
       " 'Black',\n",
       " 'Black',\n",
       " 'White',\n",
       " 'White',\n",
       " 'Black',\n",
       " 'White',\n",
       " 'White',\n",
       " 'White',\n",
       " 'Black',\n",
       " 'Black',\n",
       " 'White',\n",
       " 'White',\n",
       " 'White',\n",
       " 'White',\n",
       " 'White',\n",
       " 'White',\n",
       " 'Black',\n",
       " 'White',\n",
       " 'Black',\n",
       " 'White',\n",
       " 'White',\n",
       " 'White',\n",
       " 'Black',\n",
       " 'White',\n",
       " 'White',\n",
       " 'Black',\n",
       " 'White',\n",
       " 'Black',\n",
       " 'White',\n",
       " 'Black',\n",
       " 'White',\n",
       " 'White',\n",
       " 'White',\n",
       " 'Black',\n",
       " 'Black',\n",
       " 'Black',\n",
       " 'White',\n",
       " 'Black',\n",
       " 'White',\n",
       " 'Black',\n",
       " 'White',\n",
       " 'White',\n",
       " 'White',\n",
       " 'White',\n",
       " 'Black',\n",
       " 'White',\n",
       " 'White',\n",
       " 'White',\n",
       " 'White',\n",
       " 'White',\n",
       " 'White',\n",
       " 'White',\n",
       " 'Black',\n",
       " 'White',\n",
       " 'Black',\n",
       " 'White',\n",
       " 'White',\n",
       " 'White',\n",
       " 'White',\n",
       " 'Black',\n",
       " 'White',\n",
       " 'White',\n",
       " 'White',\n",
       " 'Black',\n",
       " 'White',\n",
       " 'White',\n",
       " 'White',\n",
       " 'White',\n",
       " 'White',\n",
       " 'White',\n",
       " 'Black',\n",
       " 'Asian/Pacific Islander',\n",
       " 'White',\n",
       " 'White',\n",
       " 'White',\n",
       " 'White',\n",
       " 'White',\n",
       " 'Black',\n",
       " 'White',\n",
       " 'Black',\n",
       " 'Black',\n",
       " 'White',\n",
       " 'White',\n",
       " 'White',\n",
       " 'Black',\n",
       " 'White',\n",
       " 'Black',\n",
       " 'White',\n",
       " 'White',\n",
       " 'Black',\n",
       " 'White',\n",
       " 'Black',\n",
       " 'White',\n",
       " 'Black',\n",
       " 'White',\n",
       " 'White',\n",
       " 'White',\n",
       " 'White',\n",
       " 'White',\n",
       " 'White',\n",
       " 'White',\n",
       " 'White',\n",
       " 'Black',\n",
       " 'White',\n",
       " 'White',\n",
       " 'Black',\n",
       " 'White',\n",
       " 'White',\n",
       " 'Black',\n",
       " 'Black',\n",
       " 'White',\n",
       " 'White',\n",
       " 'White',\n",
       " 'White',\n",
       " 'White',\n",
       " 'White',\n",
       " 'White',\n",
       " 'Black',\n",
       " 'Black',\n",
       " 'White',\n",
       " 'White',\n",
       " 'White',\n",
       " 'Black',\n",
       " 'White',\n",
       " 'White',\n",
       " 'Black',\n",
       " 'White',\n",
       " 'White',\n",
       " 'Hispanic',\n",
       " 'Black',\n",
       " 'White',\n",
       " 'White',\n",
       " 'Black',\n",
       " 'White',\n",
       " 'White',\n",
       " 'White',\n",
       " 'White',\n",
       " 'White',\n",
       " 'White',\n",
       " 'Black',\n",
       " 'Black',\n",
       " 'White',\n",
       " 'White',\n",
       " 'White',\n",
       " 'Black',\n",
       " 'White',\n",
       " 'White',\n",
       " 'White',\n",
       " 'White',\n",
       " 'White',\n",
       " 'White',\n",
       " 'White',\n",
       " 'White',\n",
       " 'White',\n",
       " 'Black',\n",
       " 'White',\n",
       " 'White',\n",
       " 'White',\n",
       " 'Black',\n",
       " 'Black',\n",
       " 'White',\n",
       " 'Black',\n",
       " 'Black',\n",
       " 'White',\n",
       " 'White',\n",
       " 'White',\n",
       " 'White',\n",
       " 'Black',\n",
       " 'White',\n",
       " 'Black',\n",
       " 'Black',\n",
       " 'White',\n",
       " 'Black',\n",
       " 'White',\n",
       " 'White',\n",
       " 'Black',\n",
       " 'White',\n",
       " 'White',\n",
       " 'White',\n",
       " 'White',\n",
       " 'White',\n",
       " 'Black',\n",
       " 'Black',\n",
       " 'Black',\n",
       " 'Black',\n",
       " 'White',\n",
       " 'White',\n",
       " 'White',\n",
       " 'Black',\n",
       " 'White',\n",
       " 'White',\n",
       " 'White',\n",
       " 'White',\n",
       " 'White',\n",
       " 'White',\n",
       " 'White',\n",
       " 'White',\n",
       " 'Black',\n",
       " 'White',\n",
       " 'White',\n",
       " 'White',\n",
       " 'Black',\n",
       " 'White',\n",
       " 'White',\n",
       " 'White',\n",
       " 'Black',\n",
       " 'Black',\n",
       " 'White',\n",
       " 'White',\n",
       " 'White',\n",
       " 'Black',\n",
       " 'Black',\n",
       " 'White',\n",
       " 'White',\n",
       " 'White',\n",
       " 'White',\n",
       " 'Black',\n",
       " 'Black',\n",
       " 'Black',\n",
       " 'White',\n",
       " 'Black',\n",
       " 'White',\n",
       " 'White',\n",
       " 'White',\n",
       " 'Black',\n",
       " 'White',\n",
       " 'White',\n",
       " 'White',\n",
       " 'White',\n",
       " 'White',\n",
       " 'Black',\n",
       " 'White',\n",
       " 'Black',\n",
       " 'White',\n",
       " 'Black',\n",
       " 'White',\n",
       " 'Black',\n",
       " 'Black',\n",
       " 'White',\n",
       " 'Black',\n",
       " 'Black',\n",
       " 'White',\n",
       " 'White',\n",
       " 'White',\n",
       " 'White',\n",
       " 'Black',\n",
       " 'White',\n",
       " 'White',\n",
       " 'White',\n",
       " 'White',\n",
       " 'Black',\n",
       " 'Black',\n",
       " 'White',\n",
       " 'Black',\n",
       " 'White',\n",
       " 'White',\n",
       " 'White',\n",
       " 'Black',\n",
       " 'Black',\n",
       " 'Black',\n",
       " 'White',\n",
       " 'White',\n",
       " 'White',\n",
       " 'White',\n",
       " 'White',\n",
       " 'White',\n",
       " 'White',\n",
       " 'White',\n",
       " 'White',\n",
       " 'White',\n",
       " 'White',\n",
       " 'White',\n",
       " 'White',\n",
       " 'White',\n",
       " 'Black',\n",
       " 'Black',\n",
       " 'Black',\n",
       " 'White',\n",
       " 'Black',\n",
       " 'Black',\n",
       " 'White',\n",
       " 'Black',\n",
       " 'White',\n",
       " 'White',\n",
       " 'White',\n",
       " 'White',\n",
       " 'White',\n",
       " 'White',\n",
       " 'Black',\n",
       " 'White',\n",
       " 'White',\n",
       " 'White',\n",
       " 'Black',\n",
       " 'White',\n",
       " 'White',\n",
       " 'White',\n",
       " 'White',\n",
       " 'Black',\n",
       " 'White',\n",
       " 'White',\n",
       " 'White',\n",
       " 'Black',\n",
       " 'Black',\n",
       " 'White',\n",
       " 'White',\n",
       " 'Black',\n",
       " 'White',\n",
       " 'Black',\n",
       " 'Black',\n",
       " 'Black',\n",
       " 'White',\n",
       " 'White',\n",
       " 'Black',\n",
       " 'White',\n",
       " 'Black',\n",
       " 'White',\n",
       " 'White',\n",
       " 'Black',\n",
       " 'White',\n",
       " 'White',\n",
       " 'White',\n",
       " 'White',\n",
       " 'White',\n",
       " 'White',\n",
       " 'White',\n",
       " 'White',\n",
       " 'White',\n",
       " 'White',\n",
       " 'Black',\n",
       " 'White',\n",
       " 'White',\n",
       " 'White',\n",
       " 'Black',\n",
       " 'White',\n",
       " 'White',\n",
       " 'Native American/Native Alaskan',\n",
       " 'White',\n",
       " 'Black',\n",
       " 'White',\n",
       " 'White',\n",
       " 'White',\n",
       " 'Black',\n",
       " 'Black',\n",
       " 'Black',\n",
       " 'White',\n",
       " 'White',\n",
       " 'White',\n",
       " 'White',\n",
       " 'White',\n",
       " 'White',\n",
       " 'Hispanic',\n",
       " 'White',\n",
       " 'White',\n",
       " 'Black',\n",
       " 'Black',\n",
       " 'White',\n",
       " 'White',\n",
       " 'White',\n",
       " 'White',\n",
       " 'White',\n",
       " 'White',\n",
       " 'White',\n",
       " 'Black',\n",
       " 'Black',\n",
       " 'White',\n",
       " 'Black',\n",
       " 'White',\n",
       " 'White',\n",
       " 'White',\n",
       " 'White',\n",
       " 'Black',\n",
       " 'White',\n",
       " 'White',\n",
       " 'White',\n",
       " 'White',\n",
       " 'Black',\n",
       " 'Black',\n",
       " 'White',\n",
       " 'Black',\n",
       " 'White',\n",
       " 'Black',\n",
       " 'Black',\n",
       " 'Black',\n",
       " 'White',\n",
       " 'White',\n",
       " 'Black',\n",
       " 'White',\n",
       " 'Hispanic',\n",
       " 'White',\n",
       " 'White',\n",
       " 'Asian/Pacific Islander',\n",
       " 'White',\n",
       " 'White',\n",
       " 'Black',\n",
       " 'White',\n",
       " 'Black',\n",
       " 'White',\n",
       " 'White',\n",
       " 'White',\n",
       " 'Black',\n",
       " 'Black',\n",
       " 'White',\n",
       " 'White',\n",
       " 'White',\n",
       " 'Black',\n",
       " 'White',\n",
       " 'White',\n",
       " 'Black',\n",
       " 'White',\n",
       " 'Black',\n",
       " 'White',\n",
       " 'Black',\n",
       " 'White',\n",
       " 'Black',\n",
       " 'Black',\n",
       " 'White',\n",
       " 'Black',\n",
       " 'Black',\n",
       " 'Black',\n",
       " 'White',\n",
       " 'Black',\n",
       " 'Black',\n",
       " 'White',\n",
       " 'White',\n",
       " 'Black',\n",
       " 'White',\n",
       " 'Black',\n",
       " 'Black',\n",
       " 'White',\n",
       " 'Black',\n",
       " 'Hispanic',\n",
       " 'Hispanic',\n",
       " 'Hispanic',\n",
       " 'White',\n",
       " 'Black',\n",
       " 'White',\n",
       " 'Black',\n",
       " 'White',\n",
       " 'Black',\n",
       " 'White',\n",
       " 'White',\n",
       " 'Black',\n",
       " 'Black',\n",
       " 'White',\n",
       " 'Black',\n",
       " 'White',\n",
       " 'Black',\n",
       " 'White',\n",
       " 'White',\n",
       " 'White',\n",
       " 'White',\n",
       " 'White',\n",
       " 'Black',\n",
       " 'Black',\n",
       " 'White',\n",
       " 'Hispanic',\n",
       " 'White',\n",
       " 'Black',\n",
       " 'Black',\n",
       " 'White',\n",
       " 'White',\n",
       " 'White',\n",
       " 'Black',\n",
       " 'Black',\n",
       " 'Black',\n",
       " 'White',\n",
       " 'Black',\n",
       " 'Black',\n",
       " 'Black',\n",
       " 'White',\n",
       " 'Black',\n",
       " 'Black',\n",
       " 'Black',\n",
       " 'Black',\n",
       " 'Black',\n",
       " 'Black',\n",
       " 'Black',\n",
       " 'White',\n",
       " 'White',\n",
       " 'White',\n",
       " 'White',\n",
       " 'White',\n",
       " 'Black',\n",
       " 'Black',\n",
       " 'Black',\n",
       " 'White',\n",
       " 'Black',\n",
       " 'Black',\n",
       " 'White',\n",
       " 'White',\n",
       " 'White',\n",
       " 'White',\n",
       " 'White',\n",
       " 'White',\n",
       " 'White',\n",
       " 'White',\n",
       " 'White',\n",
       " 'White',\n",
       " 'Black',\n",
       " 'White',\n",
       " 'White',\n",
       " 'Black',\n",
       " 'White',\n",
       " 'White',\n",
       " 'White',\n",
       " 'White',\n",
       " 'White',\n",
       " 'White',\n",
       " 'Black',\n",
       " 'White',\n",
       " 'Black',\n",
       " 'White',\n",
       " 'White',\n",
       " 'Black',\n",
       " 'White',\n",
       " 'White',\n",
       " 'White',\n",
       " 'White',\n",
       " 'White',\n",
       " 'White',\n",
       " 'White',\n",
       " 'White',\n",
       " 'Black',\n",
       " 'Native American/Native Alaskan',\n",
       " 'White',\n",
       " ...]"
      ]
     },
     "execution_count": 68,
     "metadata": {},
     "output_type": "execute_result"
    }
   ],
   "source": [
    "races"
   ]
  },
  {
   "cell_type": "code",
   "execution_count": 69,
   "metadata": {
    "collapsed": true
   },
   "outputs": [],
   "source": [
    "homicide_race_counts = {}"
   ]
  },
  {
   "cell_type": "code",
   "execution_count": 70,
   "metadata": {
    "collapsed": false
   },
   "outputs": [],
   "source": [
    "for i, race in enumerate(races):\n",
    "    if race not in homicide_race_counts:\n",
    "        homicide_race_counts[race] = 0\n",
    "    if intents[i] == \"Homicide\":\n",
    "        homicide_race_counts[race] += 1"
   ]
  },
  {
   "cell_type": "code",
   "execution_count": 71,
   "metadata": {
    "collapsed": false
   },
   "outputs": [
    {
     "name": "stdout",
     "output_type": "stream",
     "text": [
      "100798\n"
     ]
    },
    {
     "data": {
      "text/plain": [
       "100798"
      ]
     },
     "execution_count": 71,
     "metadata": {},
     "output_type": "execute_result"
    }
   ],
   "source": [
    "print(len(races))\n",
    "len(intents)"
   ]
  },
  {
   "cell_type": "code",
   "execution_count": 72,
   "metadata": {
    "collapsed": false
   },
   "outputs": [
    {
     "data": {
      "text/plain": [
       "{'Asian/Pacific Islander': 559,\n",
       " 'Black': 19510,\n",
       " 'Hispanic': 5634,\n",
       " 'Native American/Native Alaskan': 326,\n",
       " 'White': 9147}"
      ]
     },
     "execution_count": 72,
     "metadata": {},
     "output_type": "execute_result"
    }
   ],
   "source": [
    "homicide_race_counts"
   ]
  },
  {
   "cell_type": "code",
   "execution_count": 73,
   "metadata": {
    "collapsed": true
   },
   "outputs": [],
   "source": [
    "homicide_per_100k = {}"
   ]
  },
  {
   "cell_type": "code",
   "execution_count": 74,
   "metadata": {
    "collapsed": false
   },
   "outputs": [
    {
     "data": {
      "text/plain": [
       "{'Asian/Pacific Islander': 15834141,\n",
       " 'Black': 40250635,\n",
       " 'Hispanic': 44618105,\n",
       " 'Native American/Native Alaskan': 3739506,\n",
       " 'White': 197318956}"
      ]
     },
     "execution_count": 74,
     "metadata": {},
     "output_type": "execute_result"
    }
   ],
   "source": [
    "mapping"
   ]
  },
  {
   "cell_type": "code",
   "execution_count": 75,
   "metadata": {
    "collapsed": false
   },
   "outputs": [],
   "source": [
    "for k,v in homicide_race_counts.items():\n",
    "    homicide_per_100k[k] = v/mapping[k]*100000\n",
    "    "
   ]
  },
  {
   "cell_type": "code",
   "execution_count": 76,
   "metadata": {
    "collapsed": false
   },
   "outputs": [
    {
     "data": {
      "text/plain": [
       "{'Asian/Pacific Islander': 3.530346230970155,\n",
       " 'Black': 48.471284987180944,\n",
       " 'Hispanic': 12.627161104219914,\n",
       " 'Native American/Native Alaskan': 8.717729026240365,\n",
       " 'White': 4.6356417981453335}"
      ]
     },
     "execution_count": 76,
     "metadata": {},
     "output_type": "execute_result"
    }
   ],
   "source": [
    "homicide_per_100k"
   ]
  },
  {
   "cell_type": "code",
   "execution_count": 77,
   "metadata": {
    "collapsed": true
   },
   "outputs": [],
   "source": [
    "# Black people are 10 times more likely than a white person to be involved in a homicide. Asians are the only other race less likely to be involved. Native Americans and Hispanics still have a homicide rate double to triple that of white / Asians.\n",
    "# Looking deeper into the data to understand economic or social factors contributing to these disproportionate rate"
   ]
  },
  {
   "cell_type": "code",
   "execution_count": 78,
   "metadata": {
    "collapsed": false
   },
   "outputs": [
    {
     "data": {
      "text/plain": [
       "['',\n",
       " 'year',\n",
       " 'month',\n",
       " 'intent',\n",
       " 'police',\n",
       " 'sex',\n",
       " 'age',\n",
       " 'race',\n",
       " 'hispanic',\n",
       " 'place',\n",
       " 'education']"
      ]
     },
     "execution_count": 78,
     "metadata": {},
     "output_type": "execute_result"
    }
   ],
   "source": [
    "headers"
   ]
  },
  {
   "cell_type": "code",
   "execution_count": 81,
   "metadata": {
    "collapsed": false
   },
   "outputs": [
    {
     "data": {
      "text/plain": [
       "[['1',\n",
       "  '2012',\n",
       "  '01',\n",
       "  'Suicide',\n",
       "  '0',\n",
       "  'M',\n",
       "  '34',\n",
       "  'Asian/Pacific Islander',\n",
       "  '100',\n",
       "  'Home',\n",
       "  '4'],\n",
       " ['2', '2012', '01', 'Suicide', '0', 'F', '21', 'White', '100', 'Street', '3'],\n",
       " ['3',\n",
       "  '2012',\n",
       "  '01',\n",
       "  'Suicide',\n",
       "  '0',\n",
       "  'M',\n",
       "  '60',\n",
       "  'White',\n",
       "  '100',\n",
       "  'Other specified',\n",
       "  '4'],\n",
       " ['4', '2012', '02', 'Suicide', '0', 'M', '64', 'White', '100', 'Home', '4'],\n",
       " ['5',\n",
       "  '2012',\n",
       "  '02',\n",
       "  'Suicide',\n",
       "  '0',\n",
       "  'M',\n",
       "  '31',\n",
       "  'White',\n",
       "  '100',\n",
       "  'Other specified',\n",
       "  '2']]"
      ]
     },
     "execution_count": 81,
     "metadata": {},
     "output_type": "execute_result"
    }
   ],
   "source": [
    "guns[:5]"
   ]
  },
  {
   "cell_type": "code",
   "execution_count": 85,
   "metadata": {
    "collapsed": false
   },
   "outputs": [],
   "source": [
    "months = [int(death[2]) for death in guns]"
   ]
  },
  {
   "cell_type": "code",
   "execution_count": 86,
   "metadata": {
    "collapsed": false
   },
   "outputs": [
    {
     "data": {
      "text/plain": [
       "[1, 1, 1, 2, 2, 2, 2, 3, 2, 2]"
      ]
     },
     "execution_count": 86,
     "metadata": {},
     "output_type": "execute_result"
    }
   ],
   "source": [
    "months[:10]"
   ]
  },
  {
   "cell_type": "code",
   "execution_count": 93,
   "metadata": {
    "collapsed": true
   },
   "outputs": [],
   "source": [
    "month_count = {}"
   ]
  },
  {
   "cell_type": "code",
   "execution_count": 94,
   "metadata": {
    "collapsed": false
   },
   "outputs": [],
   "source": [
    "for i, month in enumerate(months):\n",
    "    if month not in month_count:\n",
    "        month_count[month] = 0\n",
    "    if intents[i] == \"Homicide\":\n",
    "        month_count[month] += 1"
   ]
  },
  {
   "cell_type": "code",
   "execution_count": 95,
   "metadata": {
    "collapsed": false
   },
   "outputs": [
    {
     "data": {
      "text/plain": [
       "{1: 2829,\n",
       " 2: 2178,\n",
       " 3: 2780,\n",
       " 4: 2845,\n",
       " 5: 2976,\n",
       " 6: 3130,\n",
       " 7: 3269,\n",
       " 8: 3125,\n",
       " 9: 2966,\n",
       " 10: 2968,\n",
       " 11: 2919,\n",
       " 12: 3191}"
      ]
     },
     "execution_count": 95,
     "metadata": {},
     "output_type": "execute_result"
    }
   ],
   "source": [
    "month_count"
   ]
  },
  {
   "cell_type": "code",
   "execution_count": null,
   "metadata": {
    "collapsed": true
   },
   "outputs": [],
   "source": [
    "# The homicide rate appears to rise in the summer months. This is an observed phenomenon possibly relating to increased social interaction during warmer weather and potentially irritability / desperation from that heat.\n",
    "# Rates seem to spike in December and sharply decrease in February. Further investigation into the issue could be insightful. "
   ]
  },
  {
   "cell_type": "code",
   "execution_count": 96,
   "metadata": {
    "collapsed": false
   },
   "outputs": [
    {
     "ename": "NameError",
     "evalue": "name 'gender' is not defined",
     "output_type": "error",
     "traceback": [
      "\u001b[1;31m\u001b[0m",
      "\u001b[1;31mNameError\u001b[0mTraceback (most recent call last)",
      "\u001b[1;32m<ipython-input-96-d21b30e3283c>\u001b[0m in \u001b[0;36m<module>\u001b[1;34m()\u001b[0m\n\u001b[1;32m----> 1\u001b[1;33m \u001b[0mgender\u001b[0m\u001b[1;33m\u001b[0m\u001b[0m\n\u001b[0m",
      "\u001b[1;31mNameError\u001b[0m: name 'gender' is not defined"
     ]
    }
   ],
   "source": [
    "gender"
   ]
  },
  {
   "cell_type": "code",
   "execution_count": 97,
   "metadata": {
    "collapsed": false
   },
   "outputs": [
    {
     "data": {
      "text/plain": [
       "{'F': 14449, 'M': 86349}"
      ]
     },
     "execution_count": 97,
     "metadata": {},
     "output_type": "execute_result"
    }
   ],
   "source": [
    "sex_counts"
   ]
  },
  {
   "cell_type": "code",
   "execution_count": 98,
   "metadata": {
    "collapsed": true
   },
   "outputs": [],
   "source": [
    "gender = [death[5] for death in guns]"
   ]
  },
  {
   "cell_type": "code",
   "execution_count": 100,
   "metadata": {
    "collapsed": false
   },
   "outputs": [],
   "source": [
    "gender_h_count = {}"
   ]
  },
  {
   "cell_type": "code",
   "execution_count": 102,
   "metadata": {
    "collapsed": false
   },
   "outputs": [],
   "source": [
    "for i, sex in enumerate(gender):\n",
    "    if sex not in gender_h_count:\n",
    "        gender_h_count[sex] = 0\n",
    "    if intents[i] == \"Homicide\":\n",
    "        gender_h_count[sex] += 1"
   ]
  },
  {
   "cell_type": "code",
   "execution_count": 103,
   "metadata": {
    "collapsed": false
   },
   "outputs": [
    {
     "data": {
      "text/plain": [
       "{'F': 5373, 'M': 29803}"
      ]
     },
     "execution_count": 103,
     "metadata": {},
     "output_type": "execute_result"
    }
   ],
   "source": [
    "gender_h_count"
   ]
  },
  {
   "cell_type": "code",
   "execution_count": 104,
   "metadata": {
    "collapsed": true
   },
   "outputs": [],
   "source": [
    "# Men are 5.5 times more likely to die in a homicide than women. This approximates the ratio for gun deaths in general."
   ]
  },
  {
   "cell_type": "code",
   "execution_count": 105,
   "metadata": {
    "collapsed": true
   },
   "outputs": [],
   "source": [
    "accidental_race_counts = {}"
   ]
  },
  {
   "cell_type": "code",
   "execution_count": 106,
   "metadata": {
    "collapsed": true
   },
   "outputs": [],
   "source": [
    "for i, race in enumerate(races):\n",
    "    if race not in accidental_race_counts:\n",
    "        accidental_race_counts[race] = 0\n",
    "    if intents[i] == \"Accidental\":\n",
    "        accidental_race_counts[race] += 1"
   ]
  },
  {
   "cell_type": "code",
   "execution_count": 107,
   "metadata": {
    "collapsed": false
   },
   "outputs": [
    {
     "data": {
      "text/plain": [
       "{'Asian/Pacific Islander': 12,\n",
       " 'Black': 328,\n",
       " 'Hispanic': 145,\n",
       " 'Native American/Native Alaskan': 22,\n",
       " 'White': 1132}"
      ]
     },
     "execution_count": 107,
     "metadata": {},
     "output_type": "execute_result"
    }
   ],
   "source": [
    "accidental_race_counts"
   ]
  },
  {
   "cell_type": "code",
   "execution_count": 108,
   "metadata": {
    "collapsed": false
   },
   "outputs": [
    {
     "data": {
      "text/plain": [
       "{'Asian/Pacific Islander': 559,\n",
       " 'Black': 19510,\n",
       " 'Hispanic': 5634,\n",
       " 'Native American/Native Alaskan': 326,\n",
       " 'White': 9147}"
      ]
     },
     "execution_count": 108,
     "metadata": {},
     "output_type": "execute_result"
    }
   ],
   "source": [
    "homicide_race_counts"
   ]
  },
  {
   "cell_type": "code",
   "execution_count": 109,
   "metadata": {
    "collapsed": false
   },
   "outputs": [
    {
     "ename": "TypeError",
     "evalue": "unsupported operand type(s) for /: 'dict' and 'dict'",
     "output_type": "error",
     "traceback": [
      "\u001b[1;31m\u001b[0m",
      "\u001b[1;31mTypeError\u001b[0mTraceback (most recent call last)",
      "\u001b[1;32m<ipython-input-109-a9244b97d94c>\u001b[0m in \u001b[0;36m<module>\u001b[1;34m()\u001b[0m\n\u001b[1;32m----> 1\u001b[1;33m \u001b[0mratio\u001b[0m \u001b[1;33m=\u001b[0m \u001b[0maccidental_race_counts\u001b[0m \u001b[1;33m/\u001b[0m \u001b[0mhomicide_race_counts\u001b[0m\u001b[1;33m\u001b[0m\u001b[0m\n\u001b[0m",
      "\u001b[1;31mTypeError\u001b[0m: unsupported operand type(s) for /: 'dict' and 'dict'"
     ]
    }
   ],
   "source": [
    "ratio = accidental_race_counts / homicide_race_counts"
   ]
  },
  {
   "cell_type": "code",
   "execution_count": 110,
   "metadata": {
    "collapsed": true
   },
   "outputs": [],
   "source": [
    "list_arc = [v for k,v in accidental_race_counts.items()]"
   ]
  },
  {
   "cell_type": "code",
   "execution_count": 111,
   "metadata": {
    "collapsed": false
   },
   "outputs": [
    {
     "data": {
      "text/plain": [
       "[328, 22, 1132, 12, 145]"
      ]
     },
     "execution_count": 111,
     "metadata": {},
     "output_type": "execute_result"
    }
   ],
   "source": [
    "list_arc"
   ]
  },
  {
   "cell_type": "code",
   "execution_count": 112,
   "metadata": {
    "collapsed": true
   },
   "outputs": [],
   "source": [
    "list_hrc = [v for k,v in homicide_race_counts.items()]"
   ]
  },
  {
   "cell_type": "code",
   "execution_count": 113,
   "metadata": {
    "collapsed": false
   },
   "outputs": [
    {
     "data": {
      "text/plain": [
       "[19510, 326, 9147, 559, 5634]"
      ]
     },
     "execution_count": 113,
     "metadata": {},
     "output_type": "execute_result"
    }
   ],
   "source": [
    "list_hrc"
   ]
  },
  {
   "cell_type": "code",
   "execution_count": 118,
   "metadata": {
    "collapsed": false
   },
   "outputs": [],
   "source": [
    "ratio = [v/list_hrc[i] for i, v in enumerate(list_arc)]"
   ]
  },
  {
   "cell_type": "code",
   "execution_count": 119,
   "metadata": {
    "collapsed": false
   },
   "outputs": [
    {
     "data": {
      "text/plain": [
       "[0.0168118913377755,\n",
       " 0.06748466257668712,\n",
       " 0.12375642287088663,\n",
       " 0.02146690518783542,\n",
       " 0.025736599219027333]"
      ]
     },
     "execution_count": 119,
     "metadata": {},
     "output_type": "execute_result"
    }
   ],
   "source": [
    "ratio"
   ]
  },
  {
   "cell_type": "code",
   "execution_count": 120,
   "metadata": {
    "collapsed": false
   },
   "outputs": [
    {
     "ename": "NameError",
     "evalue": "name 'BNWAH' is not defined",
     "output_type": "error",
     "traceback": [
      "\u001b[1;31m\u001b[0m",
      "\u001b[1;31mNameError\u001b[0mTraceback (most recent call last)",
      "\u001b[1;32m<ipython-input-120-d03b05740567>\u001b[0m in \u001b[0;36m<module>\u001b[1;34m()\u001b[0m\n\u001b[1;32m----> 1\u001b[1;33m \u001b[0mBNWAH\u001b[0m\u001b[1;33m\u001b[0m\u001b[0m\n\u001b[0m",
      "\u001b[1;31mNameError\u001b[0m: name 'BNWAH' is not defined"
     ]
    }
   ],
   "source": [
    "BNWAH"
   ]
  },
  {
   "cell_type": "code",
   "execution_count": 125,
   "metadata": {
    "collapsed": true
   },
   "outputs": [],
   "source": [
    "accidental_per_100K = {}"
   ]
  },
  {
   "cell_type": "code",
   "execution_count": 126,
   "metadata": {
    "collapsed": false
   },
   "outputs": [],
   "source": [
    "for k,v in accidental_race_counts.items():\n",
    "    accidental_per_100K[k] = v/mapping[k]*100000"
   ]
  },
  {
   "cell_type": "code",
   "execution_count": 127,
   "metadata": {
    "collapsed": false
   },
   "outputs": [
    {
     "data": {
      "text/plain": [
       "{'Asian/Pacific Islander': 0.07578560782046845,\n",
       " 'Black': 0.814893976206835,\n",
       " 'Hispanic': 0.3249801846133985,\n",
       " 'Native American/Native Alaskan': 0.5883130017708221,\n",
       " 'White': 0.5736904466492313}"
      ]
     },
     "execution_count": 127,
     "metadata": {},
     "output_type": "execute_result"
    }
   ],
   "source": [
    "accidental_per_100K"
   ]
  },
  {
   "cell_type": "code",
   "execution_count": 129,
   "metadata": {
    "collapsed": false
   },
   "outputs": [
    {
     "data": {
      "text/plain": [
       "{'Asian/Pacific Islander': 3.530346230970155,\n",
       " 'Black': 48.471284987180944,\n",
       " 'Hispanic': 12.627161104219914,\n",
       " 'Native American/Native Alaskan': 8.717729026240365,\n",
       " 'White': 4.6356417981453335}"
      ]
     },
     "execution_count": 129,
     "metadata": {},
     "output_type": "execute_result"
    }
   ],
   "source": [
    "homicide_per_100k"
   ]
  },
  {
   "cell_type": "code",
   "execution_count": 130,
   "metadata": {
    "collapsed": true
   },
   "outputs": [],
   "source": [
    "# Accidental rates are much more evenly distributed across different races\n",
    "# Asians still least likely to be involved by orders of magnitude greater than homicides and general gun deaths\n",
    "# Black people are still most likely to be involved in accidental deaths but at a much lower rate than homicides and general gun deaths"
   ]
  },
  {
   "cell_type": "code",
   "execution_count": 131,
   "metadata": {
    "collapsed": false
   },
   "outputs": [
    {
     "data": {
      "text/plain": [
       "['',\n",
       " 'year',\n",
       " 'month',\n",
       " 'intent',\n",
       " 'police',\n",
       " 'sex',\n",
       " 'age',\n",
       " 'race',\n",
       " 'hispanic',\n",
       " 'place',\n",
       " 'education']"
      ]
     },
     "execution_count": 131,
     "metadata": {},
     "output_type": "execute_result"
    }
   ],
   "source": [
    "headers"
   ]
  },
  {
   "cell_type": "code",
   "execution_count": 132,
   "metadata": {
    "collapsed": false
   },
   "outputs": [
    {
     "data": {
      "text/plain": [
       "[['1',\n",
       "  '2012',\n",
       "  '01',\n",
       "  'Suicide',\n",
       "  '0',\n",
       "  'M',\n",
       "  '34',\n",
       "  'Asian/Pacific Islander',\n",
       "  '100',\n",
       "  'Home',\n",
       "  '4'],\n",
       " ['2', '2012', '01', 'Suicide', '0', 'F', '21', 'White', '100', 'Street', '3'],\n",
       " ['3',\n",
       "  '2012',\n",
       "  '01',\n",
       "  'Suicide',\n",
       "  '0',\n",
       "  'M',\n",
       "  '60',\n",
       "  'White',\n",
       "  '100',\n",
       "  'Other specified',\n",
       "  '4'],\n",
       " ['4', '2012', '02', 'Suicide', '0', 'M', '64', 'White', '100', 'Home', '4'],\n",
       " ['5',\n",
       "  '2012',\n",
       "  '02',\n",
       "  'Suicide',\n",
       "  '0',\n",
       "  'M',\n",
       "  '31',\n",
       "  'White',\n",
       "  '100',\n",
       "  'Other specified',\n",
       "  '2'],\n",
       " ['6',\n",
       "  '2012',\n",
       "  '02',\n",
       "  'Suicide',\n",
       "  '0',\n",
       "  'M',\n",
       "  '17',\n",
       "  'Native American/Native Alaskan',\n",
       "  '100',\n",
       "  'Home',\n",
       "  '1'],\n",
       " ['7',\n",
       "  '2012',\n",
       "  '02',\n",
       "  'Undetermined',\n",
       "  '0',\n",
       "  'M',\n",
       "  '48',\n",
       "  'White',\n",
       "  '100',\n",
       "  'Home',\n",
       "  '2'],\n",
       " ['8',\n",
       "  '2012',\n",
       "  '03',\n",
       "  'Suicide',\n",
       "  '0',\n",
       "  'M',\n",
       "  '41',\n",
       "  'Native American/Native Alaskan',\n",
       "  '100',\n",
       "  'Home',\n",
       "  '2'],\n",
       " ['9',\n",
       "  '2012',\n",
       "  '02',\n",
       "  'Accidental',\n",
       "  '0',\n",
       "  'M',\n",
       "  '50',\n",
       "  'White',\n",
       "  '100',\n",
       "  'Other specified',\n",
       "  '3'],\n",
       " ['10', '2012', '02', 'Suicide', '0', 'M', 'NA', 'Black', '998', 'Home', '5']]"
      ]
     },
     "execution_count": 132,
     "metadata": {},
     "output_type": "execute_result"
    }
   ],
   "source": [
    "guns[:10]"
   ]
  },
  {
   "cell_type": "code",
   "execution_count": 138,
   "metadata": {
    "collapsed": true
   },
   "outputs": [],
   "source": [
    "education_counts = {}"
   ]
  },
  {
   "cell_type": "code",
   "execution_count": 134,
   "metadata": {
    "collapsed": true
   },
   "outputs": [],
   "source": [
    "education = [death[10] for death in guns]"
   ]
  },
  {
   "cell_type": "code",
   "execution_count": 136,
   "metadata": {
    "collapsed": false
   },
   "outputs": [
    {
     "data": {
      "text/plain": [
       "['4', '3', '4', '4', '2', '1', '2', '2', '3', '5']"
      ]
     },
     "execution_count": 136,
     "metadata": {},
     "output_type": "execute_result"
    }
   ],
   "source": [
    "education[:10]"
   ]
  },
  {
   "cell_type": "code",
   "execution_count": 139,
   "metadata": {
    "collapsed": false
   },
   "outputs": [],
   "source": [
    "for level in education:\n",
    "    if level in education_counts:\n",
    "        education_counts[level] += 1\n",
    "    else:\n",
    "        education_counts[level] = 1"
   ]
  },
  {
   "cell_type": "code",
   "execution_count": 140,
   "metadata": {
    "collapsed": false
   },
   "outputs": [
    {
     "data": {
      "text/plain": [
       "{'1': 21823, '2': 42927, '3': 21680, '4': 12946, '5': 1369, 'NA': 53}"
      ]
     },
     "execution_count": 140,
     "metadata": {},
     "output_type": "execute_result"
    }
   ],
   "source": [
    "education_counts"
   ]
  },
  {
   "cell_type": "code",
   "execution_count": 141,
   "metadata": {
    "collapsed": true
   },
   "outputs": [],
   "source": [
    "location_counts = {}"
   ]
  },
  {
   "cell_type": "code",
   "execution_count": 142,
   "metadata": {
    "collapsed": true
   },
   "outputs": [],
   "source": [
    "location = [death[9] for death in guns]"
   ]
  },
  {
   "cell_type": "code",
   "execution_count": 143,
   "metadata": {
    "collapsed": true
   },
   "outputs": [],
   "source": [
    "for place in location:\n",
    "    if place in location_counts:\n",
    "        location_counts[place] += 1\n",
    "    else:\n",
    "        location_counts[place] = 1\n",
    "   "
   ]
  },
  {
   "cell_type": "code",
   "execution_count": 144,
   "metadata": {
    "collapsed": false
   },
   "outputs": [
    {
     "data": {
      "text/plain": [
       "{'Farm': 470,\n",
       " 'Home': 60486,\n",
       " 'Industrial/construction': 248,\n",
       " 'NA': 1384,\n",
       " 'Other specified': 13751,\n",
       " 'Other unspecified': 8867,\n",
       " 'Residential institution': 203,\n",
       " 'School/instiution': 671,\n",
       " 'Sports': 128,\n",
       " 'Street': 11151,\n",
       " 'Trade/service area': 3439}"
      ]
     },
     "execution_count": 144,
     "metadata": {},
     "output_type": "execute_result"
    }
   ],
   "source": [
    "location_counts"
   ]
  },
  {
   "cell_type": "code",
   "execution_count": 145,
   "metadata": {
    "collapsed": true
   },
   "outputs": [],
   "source": [
    "h_education_counts = {}"
   ]
  },
  {
   "cell_type": "code",
   "execution_count": 146,
   "metadata": {
    "collapsed": true
   },
   "outputs": [],
   "source": [
    "for i, level in enumerate(education):\n",
    "    if level not in h_education_counts:\n",
    "        h_education_counts[level] = 0\n",
    "    if intents[i] == \"Homicide\":\n",
    "        h_education_counts[level] += 1"
   ]
  },
  {
   "cell_type": "code",
   "execution_count": 147,
   "metadata": {
    "collapsed": false
   },
   "outputs": [
    {
     "data": {
      "text/plain": [
       "{'1': 11839, '2': 15649, '3': 5640, '4': 1559, '5': 455, 'NA': 34}"
      ]
     },
     "execution_count": 147,
     "metadata": {},
     "output_type": "execute_result"
    }
   ],
   "source": [
    "h_education_counts"
   ]
  },
  {
   "cell_type": "code",
   "execution_count": 148,
   "metadata": {
    "collapsed": true
   },
   "outputs": [],
   "source": [
    "# Gun deaths and homicides seem to be less likely the higher your level of education. \n",
    "# Having population base rates would help clarify this data\n",
    "# For example, people w/ level 2 education are more likely to be involved than level 1, but almost certainly not proportionately speaking\n"
   ]
  },
  {
   "cell_type": "code",
   "execution_count": 149,
   "metadata": {
    "collapsed": true
   },
   "outputs": [],
   "source": [
    "h_location_counts = {}"
   ]
  },
  {
   "cell_type": "code",
   "execution_count": 150,
   "metadata": {
    "collapsed": true
   },
   "outputs": [],
   "source": [
    "for i, place in enumerate(location):\n",
    "    if place not in h_location_counts:\n",
    "        h_location_counts[place] = 0\n",
    "    if intents[i] == \"Homicide\":\n",
    "        h_location_counts[place] += 1"
   ]
  },
  {
   "cell_type": "code",
   "execution_count": 151,
   "metadata": {
    "collapsed": false
   },
   "outputs": [
    {
     "data": {
      "text/plain": [
       "{'Farm': 76,\n",
       " 'Home': 13613,\n",
       " 'Industrial/construction': 85,\n",
       " 'NA': 1383,\n",
       " 'Other specified': 5429,\n",
       " 'Other unspecified': 3604,\n",
       " 'Residential institution': 73,\n",
       " 'School/instiution': 361,\n",
       " 'Sports': 22,\n",
       " 'Street': 8867,\n",
       " 'Trade/service area': 1663}"
      ]
     },
     "execution_count": 151,
     "metadata": {},
     "output_type": "execute_result"
    }
   ],
   "source": [
    "h_location_counts"
   ]
  },
  {
   "cell_type": "code",
   "execution_count": 152,
   "metadata": {
    "collapsed": false
   },
   "outputs": [
    {
     "data": {
      "text/plain": [
       "{'Farm': 470,\n",
       " 'Home': 60486,\n",
       " 'Industrial/construction': 248,\n",
       " 'NA': 1384,\n",
       " 'Other specified': 13751,\n",
       " 'Other unspecified': 8867,\n",
       " 'Residential institution': 203,\n",
       " 'School/instiution': 671,\n",
       " 'Sports': 128,\n",
       " 'Street': 11151,\n",
       " 'Trade/service area': 3439}"
      ]
     },
     "execution_count": 152,
     "metadata": {},
     "output_type": "execute_result"
    }
   ],
   "source": [
    "location_counts"
   ]
  },
  {
   "cell_type": "code",
   "execution_count": null,
   "metadata": {
    "collapsed": true
   },
   "outputs": [],
   "source": [
    "# The home is the most likely place for a gun death to occur. Over 50% of all deaths occur there. This rate is only slightly less for homicides\n",
    "# The vast majority of gun deaths occurring on the street are homicides. Other places with disproportionately high homicide rates are service areas and schools."
   ]
  }
 ],
 "metadata": {
  "kernelspec": {
   "display_name": "Python 3",
   "language": "python",
   "name": "python3"
  },
  "language_info": {
   "codemirror_mode": {
    "name": "ipython",
    "version": 3
   },
   "file_extension": ".py",
   "mimetype": "text/x-python",
   "name": "python",
   "nbconvert_exporter": "python",
   "pygments_lexer": "ipython3",
   "version": "3.4.3"
  }
 },
 "nbformat": 4,
 "nbformat_minor": 0
}
